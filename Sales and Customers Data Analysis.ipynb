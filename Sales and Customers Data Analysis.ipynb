{
    "metadata": {
        "kernelspec": {
            "name": "SQL",
            "display_name": "SQL",
            "language": "sql"
        },
        "language_info": {
            "name": "sql",
            "version": ""
        }
    },
    "nbformat_minor": 2,
    "nbformat": 4,
    "cells": [
        {
            "cell_type": "code",
            "source": [
                "SELECT TOP 10 c.CompanyName, c.City, c.Country,\n",
                " SUM(od.Quantity * od.UnitPrice) AS Total\n",
                " FROM Customers c\n",
                "INNER JOIN Orders o\n",
                "  ON c.CustomerID = o.CustomerID\n",
                " INNER JOIN\n",
                "[Order Details] od\n",
                "  ON o.OrderID = od.OrderID\n",
                " WHERE YEAR (o.OrderDate) = '2018'\n",
                "GROUP BY c.CompanyName, c.City, c.Country\n",
                "  "
            ],
            "metadata": {
                "azdata_cell_guid": "e1d59c35-5522-4be7-bf5b-72bba3d6b21d"
            },
            "outputs": [
                {
                    "output_type": "display_data",
                    "data": {
                        "text/html": "(10 rows affected)"
                    },
                    "metadata": {}
                },
                {
                    "output_type": "display_data",
                    "data": {
                        "text/html": "Total execution time: 00:00:00.398"
                    },
                    "metadata": {}
                },
                {
                    "output_type": "execute_result",
                    "metadata": {},
                    "execution_count": 1,
                    "data": {
                        "application/vnd.dataresource+json": {
                            "schema": {
                                "fields": [
                                    {
                                        "name": "CompanyName"
                                    },
                                    {
                                        "name": "City"
                                    },
                                    {
                                        "name": "Country"
                                    },
                                    {
                                        "name": "Total"
                                    }
                                ]
                            },
                            "data": [
                                {
                                    "0": "Alfreds Futterkiste",
                                    "1": "Berlin",
                                    "2": "Germany",
                                    "3": "2302.2000"
                                },
                                {
                                    "0": "Ana Trujillo Emparedados y helados",
                                    "1": "México D.F.",
                                    "2": "Mexico",
                                    "3": "514.4000"
                                },
                                {
                                    "0": "Antonio Moreno Taquería",
                                    "1": "México D.F.",
                                    "2": "Mexico",
                                    "3": "660.0000"
                                },
                                {
                                    "0": "Around the Horn",
                                    "1": "London",
                                    "2": "UK",
                                    "3": "5838.5000"
                                },
                                {
                                    "0": "Berglunds snabbköp",
                                    "1": "Luleå",
                                    "2": "Sweden",
                                    "3": "8110.5500"
                                },
                                {
                                    "0": "Blauer See Delikatessen",
                                    "1": "Mannheim",
                                    "2": "Germany",
                                    "3": "2160.0000"
                                },
                                {
                                    "0": "Blondesddsl père et fils",
                                    "1": "Strasbourg",
                                    "2": "France",
                                    "3": "730.0000"
                                },
                                {
                                    "0": "Bólido Comidas preparadas",
                                    "1": "Madrid",
                                    "2": "Spain",
                                    "3": "280.0000"
                                },
                                {
                                    "0": "Bon app'",
                                    "1": "Marseille",
                                    "2": "France",
                                    "3": "7185.9000"
                                },
                                {
                                    "0": "Bottom-Dollar Markets",
                                    "1": "Tsawassen",
                                    "2": "Canada",
                                    "3": "12227.4000"
                                }
                            ]
                        },
                        "text/html": [
                            "<table>",
                            "<tr><th>CompanyName</th><th>City</th><th>Country</th><th>Total</th></tr>",
                            "<tr><td>Alfreds Futterkiste</td><td>Berlin</td><td>Germany</td><td>2302.2000</td></tr>",
                            "<tr><td>Ana Trujillo Emparedados y helados</td><td>México D.F.</td><td>Mexico</td><td>514.4000</td></tr>",
                            "<tr><td>Antonio Moreno Taquería</td><td>México D.F.</td><td>Mexico</td><td>660.0000</td></tr>",
                            "<tr><td>Around the Horn</td><td>London</td><td>UK</td><td>5838.5000</td></tr>",
                            "<tr><td>Berglunds snabbköp</td><td>Luleå</td><td>Sweden</td><td>8110.5500</td></tr>",
                            "<tr><td>Blauer See Delikatessen</td><td>Mannheim</td><td>Germany</td><td>2160.0000</td></tr>",
                            "<tr><td>Blondesddsl père et fils</td><td>Strasbourg</td><td>France</td><td>730.0000</td></tr>",
                            "<tr><td>Bólido Comidas preparadas</td><td>Madrid</td><td>Spain</td><td>280.0000</td></tr>",
                            "<tr><td>Bon app'</td><td>Marseille</td><td>France</td><td>7185.9000</td></tr>",
                            "<tr><td>Bottom-Dollar Markets</td><td>Tsawassen</td><td>Canada</td><td>12227.4000</td></tr>",
                            "</table>"
                        ]
                    }
                }
            ],
            "execution_count": 1
        },
        {
            "cell_type": "code",
            "source": [
                "SELECT p.ProductName, SUM(od.Quantity) as [Number of Unites],\n",
                "SUM(od.Quantity * od.UnitPrice) as [Total Sale Amount]\n",
                "FROM Orders o\n",
                "INNER JOIN\n",
                "[Order Details] od\n",
                "ON o.OrderID = od.OrderID\n",
                "INNER JOIN\n",
                "Products p\n",
                "ON od.ProductID = p.ProductID\n",
                "WHERE YEAR(o.orderdate) = '2018'\n",
                "GROUP BY p.ProductName\n",
                "HAVING SUM(od.Quantity * od.UnitPrice) >= 30000\n",
                "ORDER BY [Total Sale Amount] DESC"
            ],
            "metadata": {
                "azdata_cell_guid": "e5d9c6ad-6e7b-4209-adfe-cd31d13c7a3c"
            },
            "outputs": [
                {
                    "output_type": "display_data",
                    "data": {
                        "text/html": "(2 rows affected)"
                    },
                    "metadata": {}
                },
                {
                    "output_type": "display_data",
                    "data": {
                        "text/html": "Total execution time: 00:00:00.059"
                    },
                    "metadata": {}
                },
                {
                    "output_type": "execute_result",
                    "metadata": {},
                    "execution_count": 2,
                    "data": {
                        "application/vnd.dataresource+json": {
                            "schema": {
                                "fields": [
                                    {
                                        "name": "ProductName"
                                    },
                                    {
                                        "name": "Number of Unites"
                                    },
                                    {
                                        "name": "Total Sale Amount"
                                    }
                                ]
                            },
                            "data": [
                                {
                                    "0": "Côte de Blaye",
                                    "1": "260",
                                    "2": "68510.0000"
                                },
                                {
                                    "0": "Thüringer Rostbratwurst",
                                    "1": "318",
                                    "2": "39365.2200"
                                }
                            ]
                        },
                        "text/html": [
                            "<table>",
                            "<tr><th>ProductName</th><th>Number of Unites</th><th>Total Sale Amount</th></tr>",
                            "<tr><td>Côte de Blaye</td><td>260</td><td>68510.0000</td></tr>",
                            "<tr><td>Thüringer Rostbratwurst</td><td>318</td><td>39365.2200</td></tr>",
                            "</table>"
                        ]
                    }
                }
            ],
            "execution_count": 2
        },
        {
            "cell_type": "code",
            "source": [
                "SELECT c.CompanyName,\n",
                "SUM(od.Quantity * od.UnitPrice) AS Total,\n",
                "CASE\n",
                "WHEN SUM(od.Quantity * od.UnitPrice) >= 30000 THEN 'A'\n",
                "WHEN SUM(od.Quantity * od.UnitPrice) < 30000 and sum(od.Quantity * od.UnitPrice) >= 20000\n",
                "THEN 'B'\n",
                "ELSE 'C'\n",
                "END AS Customer_Grade\n",
                "FROM Customers c\n",
                "INNER JOIN Orders o\n",
                "ON c.CustomerID = o.CustomerID\n",
                "inner join\n",
                "[Order Details] od\n",
                "ON o.OrderID = od.OrderID\n",
                "GROUP BY  c.CompanyName\n",
                "ORDER BY Total DESC"
            ],
            "metadata": {
                "azdata_cell_guid": "dddb9f84-6ac4-4158-a85b-3c5b75e6339c"
            },
            "outputs": [
                {
                    "output_type": "display_data",
                    "data": {
                        "text/html": "(89 rows affected)"
                    },
                    "metadata": {}
                },
                {
                    "output_type": "display_data",
                    "data": {
                        "text/html": "Total execution time: 00:00:00.051"
                    },
                    "metadata": {}
                },
                {
                    "output_type": "execute_result",
                    "metadata": {},
                    "execution_count": 3,
                    "data": {
                        "application/vnd.dataresource+json": {
                            "schema": {
                                "fields": [
                                    {
                                        "name": "CompanyName"
                                    },
                                    {
                                        "name": "Total"
                                    },
                                    {
                                        "name": "Customer_Grade"
                                    }
                                ]
                            },
                            "data": [
                                {
                                    "0": "QUICK-Stop",
                                    "1": "117483.3900",
                                    "2": "A"
                                },
                                {
                                    "0": "Save-a-lot Markets",
                                    "1": "115673.3900",
                                    "2": "A"
                                },
                                {
                                    "0": "Ernst Handel",
                                    "1": "113236.6800",
                                    "2": "A"
                                },
                                {
                                    "0": "Hungry Owl All-Night Grocers",
                                    "1": "57317.3900",
                                    "2": "A"
                                },
                                {
                                    "0": "Rattlesnake Canyon Grocery",
                                    "1": "52245.9000",
                                    "2": "A"
                                },
                                {
                                    "0": "Hanari Carnes",
                                    "1": "34101.1500",
                                    "2": "A"
                                },
                                {
                                    "0": "Folk och fä HB",
                                    "1": "32555.5500",
                                    "2": "A"
                                },
                                {
                                    "0": "Mère Paillarde",
                                    "1": "32203.9000",
                                    "2": "A"
                                },
                                {
                                    "0": "Königlich Essen",
                                    "1": "31745.7500",
                                    "2": "A"
                                },
                                {
                                    "0": "Queen Cozinha",
                                    "1": "30226.1000",
                                    "2": "A"
                                },
                                {
                                    "0": "White Clover Markets",
                                    "1": "29073.4500",
                                    "2": "B"
                                },
                                {
                                    "0": "Frankenversand",
                                    "1": "28722.7100",
                                    "2": "B"
                                },
                                {
                                    "0": "Berglunds snabbköp",
                                    "1": "26968.1500",
                                    "2": "B"
                                },
                                {
                                    "0": "Piccolo und mehr",
                                    "1": "26259.9500",
                                    "2": "B"
                                },
                                {
                                    "0": "Suprêmes délices",
                                    "1": "24704.4000",
                                    "2": "B"
                                },
                                {
                                    "0": "Bon app'",
                                    "1": "23850.9500",
                                    "2": "B"
                                },
                                {
                                    "0": "HILARION-Abastos",
                                    "1": "23611.5800",
                                    "2": "B"
                                },
                                {
                                    "0": "Bottom-Dollar Markets",
                                    "1": "22607.7000",
                                    "2": "B"
                                },
                                {
                                    "0": "Lehmanns Marktstand",
                                    "1": "21282.0200",
                                    "2": "B"
                                },
                                {
                                    "0": "Richter Supermarkt",
                                    "1": "20033.2000",
                                    "2": "B"
                                },
                                {
                                    "0": "Great Lakes Food Market",
                                    "1": "19711.1300",
                                    "2": "C"
                                },
                                {
                                    "0": "Blondesddsl père et fils",
                                    "1": "19088.0000",
                                    "2": "C"
                                },
                                {
                                    "0": "Simons bistro",
                                    "1": "18138.4500",
                                    "2": "C"
                                },
                                {
                                    "0": "LINO-Delicateses",
                                    "1": "17889.5500",
                                    "2": "C"
                                },
                                {
                                    "0": "LILA-Supermercado",
                                    "1": "17825.0600",
                                    "2": "C"
                                },
                                {
                                    "0": "Seven Seas Imports",
                                    "1": "17172.0500",
                                    "2": "C"
                                },
                                {
                                    "0": "Vaffeljernet",
                                    "1": "16643.8000",
                                    "2": "C"
                                },
                                {
                                    "0": "Wartian Herkku",
                                    "1": "16617.1000",
                                    "2": "C"
                                },
                                {
                                    "0": "Old World Delicatessen",
                                    "1": "16325.1500",
                                    "2": "C"
                                },
                                {
                                    "0": "Eastern Connection",
                                    "1": "15033.6600",
                                    "2": "C"
                                },
                                {
                                    "0": "Around the Horn",
                                    "1": "13806.5000",
                                    "2": "C"
                                },
                                {
                                    "0": "Ottilies Käseladen",
                                    "1": "13157.5000",
                                    "2": "C"
                                },
                                {
                                    "0": "Ricardo Adocicados",
                                    "1": "12924.4000",
                                    "2": "C"
                                },
                                {
                                    "0": "Chop-suey Chinese",
                                    "1": "12886.3000",
                                    "2": "C"
                                },
                                {
                                    "0": "Split Rail Beer & Ale",
                                    "1": "12489.7000",
                                    "2": "C"
                                },
                                {
                                    "0": "Godos Cocina Típica",
                                    "1": "11830.1000",
                                    "2": "C"
                                },
                                {
                                    "0": "Folies gourmandes",
                                    "1": "11666.9000",
                                    "2": "C"
                                },
                                {
                                    "0": "Tortuga Restaurante",
                                    "1": "10812.1500",
                                    "2": "C"
                                },
                                {
                                    "0": "Die Wandernde Kuh",
                                    "1": "10653.8500",
                                    "2": "C"
                                },
                                {
                                    "0": "Maison Dewey",
                                    "1": "10430.5800",
                                    "2": "C"
                                },
                                {
                                    "0": "La maison d'Asie",
                                    "1": "10272.3500",
                                    "2": "C"
                                },
                                {
                                    "0": "Victuailles en stock",
                                    "1": "9937.1000",
                                    "2": "C"
                                },
                                {
                                    "0": "Gourmet Lanchonetes",
                                    "1": "8702.2300",
                                    "2": "C"
                                },
                                {
                                    "0": "Magazzini Alimentari Riuniti",
                                    "1": "7603.8500",
                                    "2": "C"
                                },
                                {
                                    "0": "Reggiani Caseifici",
                                    "1": "7555.6000",
                                    "2": "C"
                                },
                                {
                                    "0": "Antonio Moreno Taquería",
                                    "1": "7515.3500",
                                    "2": "C"
                                },
                                {
                                    "0": "Tradição Hipermercados",
                                    "1": "7310.6200",
                                    "2": "C"
                                },
                                {
                                    "0": "Furia Bacalhau e Frutos do Mar",
                                    "1": "7151.5500",
                                    "2": "C"
                                },
                                {
                                    "0": "Que Delícia",
                                    "1": "6973.6300",
                                    "2": "C"
                                },
                                {
                                    "0": "Wellington Importadora",
                                    "1": "6480.7000",
                                    "2": "C"
                                },
                                {
                                    "0": "Island Trading",
                                    "1": "6146.3000",
                                    "2": "C"
                                },
                                {
                                    "0": "B's Beverages",
                                    "1": "6089.9000",
                                    "2": "C"
                                },
                                {
                                    "0": "Santé Gourmet",
                                    "1": "5735.1500",
                                    "2": "C"
                                },
                                {
                                    "0": "Princesa Isabel Vinhos",
                                    "1": "5317.1000",
                                    "2": "C"
                                },
                                {
                                    "0": "Bólido Comidas preparadas",
                                    "1": "5297.8000",
                                    "2": "C"
                                },
                                {
                                    "0": "Morgenstern Gesundkost",
                                    "1": "5042.2000",
                                    "2": "C"
                                },
                                {
                                    "0": "Toms Spezialitäten",
                                    "1": "4954.0000",
                                    "2": "C"
                                },
                                {
                                    "0": "Alfreds Futterkiste",
                                    "1": "4596.2000",
                                    "2": "C"
                                },
                                {
                                    "0": "Familia Arquibaldo",
                                    "1": "4438.9000",
                                    "2": "C"
                                },
                                {
                                    "0": "Lonesome Pine Restaurant",
                                    "1": "4258.6000",
                                    "2": "C"
                                },
                                {
                                    "0": "Pericles Comidas clásicas",
                                    "1": "4242.2000",
                                    "2": "C"
                                },
                                {
                                    "0": "Comércio Mineiro",
                                    "1": "3810.7500",
                                    "2": "C"
                                },
                                {
                                    "0": "Drachenblut Delikatessen",
                                    "1": "3763.2100",
                                    "2": "C"
                                },
                                {
                                    "0": "Wolski  Zajazd",
                                    "1": "3531.9500",
                                    "2": "C"
                                },
                                {
                                    "0": "Let's Stop N Shop",
                                    "1": "3490.0200",
                                    "2": "C"
                                },
                                {
                                    "0": "Océano Atlántico Ltda.",
                                    "1": "3460.2000",
                                    "2": "C"
                                },
                                {
                                    "0": "The Big Cheese",
                                    "1": "3361.0000",
                                    "2": "C"
                                },
                                {
                                    "0": "Blauer See Delikatessen",
                                    "1": "3239.8000",
                                    "2": "C"
                                },
                                {
                                    "0": "France restauration",
                                    "1": "3172.1600",
                                    "2": "C"
                                },
                                {
                                    "0": "Wilman Kala",
                                    "1": "3161.3500",
                                    "2": "C"
                                },
                                {
                                    "0": "Hungry Coyote Import Store",
                                    "1": "3063.2000",
                                    "2": "C"
                                },
                                {
                                    "0": "Rancho grande",
                                    "1": "2844.1000",
                                    "2": "C"
                                },
                                {
                                    "0": "Spécialités du monde",
                                    "1": "2423.3500",
                                    "2": "C"
                                },
                                {
                                    "0": "La corne d'abondance",
                                    "1": "1992.0500",
                                    "2": "C"
                                },
                                {
                                    "0": "The Cracker Box",
                                    "1": "1947.2400",
                                    "2": "C"
                                },
                                {
                                    "0": "Cactus Comidas para llevar",
                                    "1": "1814.8000",
                                    "2": "C"
                                },
                                {
                                    "0": "Consolidated Holdings",
                                    "1": "1719.1000",
                                    "2": "C"
                                },
                                {
                                    "0": "Du monde entier",
                                    "1": "1615.9000",
                                    "2": "C"
                                },
                                {
                                    "0": "Trail's Head Gourmet Provisioners",
                                    "1": "1571.2000",
                                    "2": "C"
                                },
                                {
                                    "0": "Franchi S.p.A.",
                                    "1": "1545.7000",
                                    "2": "C"
                                },
                                {
                                    "0": "GROSELLA-Restaurante",
                                    "1": "1488.7000",
                                    "2": "C"
                                },
                                {
                                    "0": "Vins et alcools Chevalier",
                                    "1": "1480.0000",
                                    "2": "C"
                                },
                                {
                                    "0": "Romero y tomillo",
                                    "1": "1467.2900",
                                    "2": "C"
                                },
                                {
                                    "0": "Ana Trujillo Emparedados y helados",
                                    "1": "1402.9500",
                                    "2": "C"
                                },
                                {
                                    "0": "Galería del gastrónomo",
                                    "1": "836.7000",
                                    "2": "C"
                                },
                                {
                                    "0": "North/South",
                                    "1": "649.0000",
                                    "2": "C"
                                },
                                {
                                    "0": "Laughing Bacchus Wine Cellars",
                                    "1": "522.5000",
                                    "2": "C"
                                },
                                {
                                    "0": "Lazy K Kountry Store",
                                    "1": "357.0000",
                                    "2": "C"
                                },
                                {
                                    "0": "Centro comercial Moctezuma",
                                    "1": "100.8000",
                                    "2": "C"
                                }
                            ]
                        },
                        "text/html": [
                            "<table>",
                            "<tr><th>CompanyName</th><th>Total</th><th>Customer_Grade</th></tr>",
                            "<tr><td>QUICK-Stop</td><td>117483.3900</td><td>A</td></tr>",
                            "<tr><td>Save-a-lot Markets</td><td>115673.3900</td><td>A</td></tr>",
                            "<tr><td>Ernst Handel</td><td>113236.6800</td><td>A</td></tr>",
                            "<tr><td>Hungry Owl All-Night Grocers</td><td>57317.3900</td><td>A</td></tr>",
                            "<tr><td>Rattlesnake Canyon Grocery</td><td>52245.9000</td><td>A</td></tr>",
                            "<tr><td>Hanari Carnes</td><td>34101.1500</td><td>A</td></tr>",
                            "<tr><td>Folk och fä HB</td><td>32555.5500</td><td>A</td></tr>",
                            "<tr><td>Mère Paillarde</td><td>32203.9000</td><td>A</td></tr>",
                            "<tr><td>Königlich Essen</td><td>31745.7500</td><td>A</td></tr>",
                            "<tr><td>Queen Cozinha</td><td>30226.1000</td><td>A</td></tr>",
                            "<tr><td>White Clover Markets</td><td>29073.4500</td><td>B</td></tr>",
                            "<tr><td>Frankenversand</td><td>28722.7100</td><td>B</td></tr>",
                            "<tr><td>Berglunds snabbköp</td><td>26968.1500</td><td>B</td></tr>",
                            "<tr><td>Piccolo und mehr</td><td>26259.9500</td><td>B</td></tr>",
                            "<tr><td>Suprêmes délices</td><td>24704.4000</td><td>B</td></tr>",
                            "<tr><td>Bon app'</td><td>23850.9500</td><td>B</td></tr>",
                            "<tr><td>HILARION-Abastos</td><td>23611.5800</td><td>B</td></tr>",
                            "<tr><td>Bottom-Dollar Markets</td><td>22607.7000</td><td>B</td></tr>",
                            "<tr><td>Lehmanns Marktstand</td><td>21282.0200</td><td>B</td></tr>",
                            "<tr><td>Richter Supermarkt</td><td>20033.2000</td><td>B</td></tr>",
                            "<tr><td>Great Lakes Food Market</td><td>19711.1300</td><td>C</td></tr>",
                            "<tr><td>Blondesddsl père et fils</td><td>19088.0000</td><td>C</td></tr>",
                            "<tr><td>Simons bistro</td><td>18138.4500</td><td>C</td></tr>",
                            "<tr><td>LINO-Delicateses</td><td>17889.5500</td><td>C</td></tr>",
                            "<tr><td>LILA-Supermercado</td><td>17825.0600</td><td>C</td></tr>",
                            "<tr><td>Seven Seas Imports</td><td>17172.0500</td><td>C</td></tr>",
                            "<tr><td>Vaffeljernet</td><td>16643.8000</td><td>C</td></tr>",
                            "<tr><td>Wartian Herkku</td><td>16617.1000</td><td>C</td></tr>",
                            "<tr><td>Old World Delicatessen</td><td>16325.1500</td><td>C</td></tr>",
                            "<tr><td>Eastern Connection</td><td>15033.6600</td><td>C</td></tr>",
                            "<tr><td>Around the Horn</td><td>13806.5000</td><td>C</td></tr>",
                            "<tr><td>Ottilies Käseladen</td><td>13157.5000</td><td>C</td></tr>",
                            "<tr><td>Ricardo Adocicados</td><td>12924.4000</td><td>C</td></tr>",
                            "<tr><td>Chop-suey Chinese</td><td>12886.3000</td><td>C</td></tr>",
                            "<tr><td>Split Rail Beer &amp; Ale</td><td>12489.7000</td><td>C</td></tr>",
                            "<tr><td>Godos Cocina Típica</td><td>11830.1000</td><td>C</td></tr>",
                            "<tr><td>Folies gourmandes</td><td>11666.9000</td><td>C</td></tr>",
                            "<tr><td>Tortuga Restaurante</td><td>10812.1500</td><td>C</td></tr>",
                            "<tr><td>Die Wandernde Kuh</td><td>10653.8500</td><td>C</td></tr>",
                            "<tr><td>Maison Dewey</td><td>10430.5800</td><td>C</td></tr>",
                            "<tr><td>La maison d'Asie</td><td>10272.3500</td><td>C</td></tr>",
                            "<tr><td>Victuailles en stock</td><td>9937.1000</td><td>C</td></tr>",
                            "<tr><td>Gourmet Lanchonetes</td><td>8702.2300</td><td>C</td></tr>",
                            "<tr><td>Magazzini Alimentari Riuniti</td><td>7603.8500</td><td>C</td></tr>",
                            "<tr><td>Reggiani Caseifici</td><td>7555.6000</td><td>C</td></tr>",
                            "<tr><td>Antonio Moreno Taquería</td><td>7515.3500</td><td>C</td></tr>",
                            "<tr><td>Tradição Hipermercados</td><td>7310.6200</td><td>C</td></tr>",
                            "<tr><td>Furia Bacalhau e Frutos do Mar</td><td>7151.5500</td><td>C</td></tr>",
                            "<tr><td>Que Delícia</td><td>6973.6300</td><td>C</td></tr>",
                            "<tr><td>Wellington Importadora</td><td>6480.7000</td><td>C</td></tr>",
                            "<tr><td>Island Trading</td><td>6146.3000</td><td>C</td></tr>",
                            "<tr><td>B's Beverages</td><td>6089.9000</td><td>C</td></tr>",
                            "<tr><td>Santé Gourmet</td><td>5735.1500</td><td>C</td></tr>",
                            "<tr><td>Princesa Isabel Vinhos</td><td>5317.1000</td><td>C</td></tr>",
                            "<tr><td>Bólido Comidas preparadas</td><td>5297.8000</td><td>C</td></tr>",
                            "<tr><td>Morgenstern Gesundkost</td><td>5042.2000</td><td>C</td></tr>",
                            "<tr><td>Toms Spezialitäten</td><td>4954.0000</td><td>C</td></tr>",
                            "<tr><td>Alfreds Futterkiste</td><td>4596.2000</td><td>C</td></tr>",
                            "<tr><td>Familia Arquibaldo</td><td>4438.9000</td><td>C</td></tr>",
                            "<tr><td>Lonesome Pine Restaurant</td><td>4258.6000</td><td>C</td></tr>",
                            "<tr><td>Pericles Comidas clásicas</td><td>4242.2000</td><td>C</td></tr>",
                            "<tr><td>Comércio Mineiro</td><td>3810.7500</td><td>C</td></tr>",
                            "<tr><td>Drachenblut Delikatessen</td><td>3763.2100</td><td>C</td></tr>",
                            "<tr><td>Wolski  Zajazd</td><td>3531.9500</td><td>C</td></tr>",
                            "<tr><td>Let's Stop N Shop</td><td>3490.0200</td><td>C</td></tr>",
                            "<tr><td>Océano Atlántico Ltda.</td><td>3460.2000</td><td>C</td></tr>",
                            "<tr><td>The Big Cheese</td><td>3361.0000</td><td>C</td></tr>",
                            "<tr><td>Blauer See Delikatessen</td><td>3239.8000</td><td>C</td></tr>",
                            "<tr><td>France restauration</td><td>3172.1600</td><td>C</td></tr>",
                            "<tr><td>Wilman Kala</td><td>3161.3500</td><td>C</td></tr>",
                            "<tr><td>Hungry Coyote Import Store</td><td>3063.2000</td><td>C</td></tr>",
                            "<tr><td>Rancho grande</td><td>2844.1000</td><td>C</td></tr>",
                            "<tr><td>Spécialités du monde</td><td>2423.3500</td><td>C</td></tr>",
                            "<tr><td>La corne d'abondance</td><td>1992.0500</td><td>C</td></tr>",
                            "<tr><td>The Cracker Box</td><td>1947.2400</td><td>C</td></tr>",
                            "<tr><td>Cactus Comidas para llevar</td><td>1814.8000</td><td>C</td></tr>",
                            "<tr><td>Consolidated Holdings</td><td>1719.1000</td><td>C</td></tr>",
                            "<tr><td>Du monde entier</td><td>1615.9000</td><td>C</td></tr>",
                            "<tr><td>Trail's Head Gourmet Provisioners</td><td>1571.2000</td><td>C</td></tr>",
                            "<tr><td>Franchi S.p.A.</td><td>1545.7000</td><td>C</td></tr>",
                            "<tr><td>GROSELLA-Restaurante</td><td>1488.7000</td><td>C</td></tr>",
                            "<tr><td>Vins et alcools Chevalier</td><td>1480.0000</td><td>C</td></tr>",
                            "<tr><td>Romero y tomillo</td><td>1467.2900</td><td>C</td></tr>",
                            "<tr><td>Ana Trujillo Emparedados y helados</td><td>1402.9500</td><td>C</td></tr>",
                            "<tr><td>Galería del gastrónomo</td><td>836.7000</td><td>C</td></tr>",
                            "<tr><td>North/South</td><td>649.0000</td><td>C</td></tr>",
                            "<tr><td>Laughing Bacchus Wine Cellars</td><td>522.5000</td><td>C</td></tr>",
                            "<tr><td>Lazy K Kountry Store</td><td>357.0000</td><td>C</td></tr>",
                            "<tr><td>Centro comercial Moctezuma</td><td>100.8000</td><td>C</td></tr>",
                            "</table>"
                        ]
                    }
                }
            ],
            "execution_count": 3
        },
        {
            "cell_type": "code",
            "source": [
                "SELECT c.CompanyName, c.City, c.Country, SUM(od.Quantity * od.UnitPrice) AS Total\n",
                "FROM Customers c\n",
                "INNER JOIN Orders o\n",
                "ON c.CustomerID = o.CustomerID\n",
                "INNER JOIN\n",
                "[Order Details] od\n",
                "ON o.OrderID = od.OrderID\n",
                "WHERE YEAR (o.OrderDate) = '2018'\n",
                "GROUP BY c.CompanyName, c.City, c.Country\n",
                "HAVING\n",
                "SUM(od.Quantity * od.UnitPrice) >=\n",
                "(SELECT AVG(Quantity * UnitPrice) FROM [Order Details])\n",
                "ORDER BY Total DESC"
            ],
            "metadata": {
                "azdata_cell_guid": "1769f46b-02f4-4983-a67e-d3d1b29e453c"
            },
            "outputs": [
                {
                    "output_type": "display_data",
                    "data": {
                        "text/html": "(67 rows affected)"
                    },
                    "metadata": {}
                },
                {
                    "output_type": "display_data",
                    "data": {
                        "text/html": "Total execution time: 00:00:00.061"
                    },
                    "metadata": {}
                },
                {
                    "output_type": "execute_result",
                    "metadata": {},
                    "execution_count": 4,
                    "data": {
                        "application/vnd.dataresource+json": {
                            "schema": {
                                "fields": [
                                    {
                                        "name": "CompanyName"
                                    },
                                    {
                                        "name": "City"
                                    },
                                    {
                                        "name": "Country"
                                    },
                                    {
                                        "name": "Total"
                                    }
                                ]
                            },
                            "data": [
                                {
                                    "0": "Save-a-lot Markets",
                                    "1": "Boise",
                                    "2": "USA",
                                    "3": "42806.2500"
                                },
                                {
                                    "0": "Ernst Handel",
                                    "1": "Graz",
                                    "2": "Austria",
                                    "3": "42598.9000"
                                },
                                {
                                    "0": "QUICK-Stop",
                                    "1": "Cunewalde",
                                    "2": "Germany",
                                    "3": "40526.9900"
                                },
                                {
                                    "0": "Hanari Carnes",
                                    "1": "Rio de Janeiro",
                                    "2": "Brazil",
                                    "3": "24238.0500"
                                },
                                {
                                    "0": "Hungry Owl All-Night Grocers",
                                    "1": "Cork",
                                    "2": "Ireland",
                                    "3": "22796.3400"
                                },
                                {
                                    "0": "Rattlesnake Canyon Grocery",
                                    "1": "Albuquerque",
                                    "2": "USA",
                                    "3": "21725.6000"
                                },
                                {
                                    "0": "Königlich Essen",
                                    "1": "Brandenburg",
                                    "2": "Germany",
                                    "3": "20204.9500"
                                },
                                {
                                    "0": "Folk och fä HB",
                                    "1": "Bräcke",
                                    "2": "Sweden",
                                    "3": "15973.8500"
                                },
                                {
                                    "0": "White Clover Markets",
                                    "1": "Seattle",
                                    "2": "USA",
                                    "3": "15278.9000"
                                },
                                {
                                    "0": "Bottom-Dollar Markets",
                                    "1": "Tsawassen",
                                    "2": "Canada",
                                    "3": "12227.4000"
                                },
                                {
                                    "0": "Suprêmes délices",
                                    "1": "Charleroi",
                                    "2": "Belgium",
                                    "3": "11862.5000"
                                },
                                {
                                    "0": "Great Lakes Food Market",
                                    "1": "Eugene",
                                    "2": "USA",
                                    "3": "10562.5800"
                                },
                                {
                                    "0": "LINO-Delicateses",
                                    "1": "I. de Margarita",
                                    "2": "Venezuela",
                                    "3": "10085.6000"
                                },
                                {
                                    "0": "Eastern Connection",
                                    "1": "London",
                                    "2": "UK",
                                    "3": "9569.3100"
                                },
                                {
                                    "0": "Berglunds snabbköp",
                                    "1": "Luleå",
                                    "2": "Sweden",
                                    "3": "8110.5500"
                                },
                                {
                                    "0": "Ricardo Adocicados",
                                    "1": "Rio de Janeiro",
                                    "2": "Brazil",
                                    "3": "7312.0000"
                                },
                                {
                                    "0": "Bon app'",
                                    "1": "Marseille",
                                    "2": "France",
                                    "3": "7185.9000"
                                },
                                {
                                    "0": "Godos Cocina Típica",
                                    "1": "Sevilla",
                                    "2": "Spain",
                                    "3": "7064.0500"
                                },
                                {
                                    "0": "Queen Cozinha",
                                    "1": "Sao Paulo",
                                    "2": "Brazil",
                                    "3": "7007.6500"
                                },
                                {
                                    "0": "HILARION-Abastos",
                                    "1": "San Cristóbal",
                                    "2": "Venezuela",
                                    "3": "6132.3000"
                                },
                                {
                                    "0": "LILA-Supermercado",
                                    "1": "Barquisimeto",
                                    "2": "Venezuela",
                                    "3": "5994.0600"
                                },
                                {
                                    "0": "Around the Horn",
                                    "1": "London",
                                    "2": "UK",
                                    "3": "5838.5000"
                                },
                                {
                                    "0": "Frankenversand",
                                    "1": "München",
                                    "2": "Germany",
                                    "3": "5587.0000"
                                },
                                {
                                    "0": "Richter Supermarkt",
                                    "1": "Genève",
                                    "2": "Switzerland",
                                    "3": "5497.9000"
                                },
                                {
                                    "0": "Old World Delicatessen",
                                    "1": "Anchorage",
                                    "2": "USA",
                                    "3": "5337.6500"
                                },
                                {
                                    "0": "Maison Dewey",
                                    "1": "Bruxelles",
                                    "2": "Belgium",
                                    "3": "4746.5800"
                                },
                                {
                                    "0": "Chop-suey Chinese",
                                    "1": "Bern",
                                    "2": "Switzerland",
                                    "3": "4429.4000"
                                },
                                {
                                    "0": "Tradição Hipermercados",
                                    "1": "Sao Paulo",
                                    "2": "Brazil",
                                    "3": "4401.6200"
                                },
                                {
                                    "0": "Piccolo und mehr",
                                    "1": "Salzburg",
                                    "2": "Austria",
                                    "3": "4393.7500"
                                },
                                {
                                    "0": "Vaffeljernet",
                                    "1": "Århus",
                                    "2": "Denmark",
                                    "3": "4333.5000"
                                },
                                {
                                    "0": "Reggiani Caseifici",
                                    "1": "Reggio Emilia",
                                    "2": "Italy",
                                    "3": "4263.0000"
                                },
                                {
                                    "0": "Santé Gourmet",
                                    "1": "Stavern",
                                    "2": "Norway",
                                    "3": "3976.7500"
                                },
                                {
                                    "0": "Lehmanns Marktstand",
                                    "1": "Frankfurt a.M.",
                                    "2": "Germany",
                                    "3": "3342.8500"
                                },
                                {
                                    "0": "Océano Atlántico Ltda.",
                                    "1": "Buenos Aires",
                                    "2": "Argentina",
                                    "3": "3031.0000"
                                },
                                {
                                    "0": "Victuailles en stock",
                                    "1": "Lyon",
                                    "2": "France",
                                    "3": "3022.0000"
                                },
                                {
                                    "0": "Ottilies Käseladen",
                                    "1": "Köln",
                                    "2": "Germany",
                                    "3": "3012.7000"
                                },
                                {
                                    "0": "Drachenblut Delikatessen",
                                    "1": "Aachen",
                                    "2": "Germany",
                                    "3": "2809.6100"
                                },
                                {
                                    "0": "Island Trading",
                                    "1": "Cowes",
                                    "2": "UK",
                                    "3": "2684.6000"
                                },
                                {
                                    "0": "Princesa Isabel Vinhos",
                                    "1": "Lisboa",
                                    "2": "Portugal",
                                    "3": "2633.9000"
                                },
                                {
                                    "0": "B's Beverages",
                                    "1": "London",
                                    "2": "UK",
                                    "3": "2431.0000"
                                },
                                {
                                    "0": "Spécialités du monde",
                                    "1": "Paris",
                                    "2": "France",
                                    "3": "2371.0000"
                                },
                                {
                                    "0": "Alfreds Futterkiste",
                                    "1": "Berlin",
                                    "2": "Germany",
                                    "3": "2302.2000"
                                },
                                {
                                    "0": "France restauration",
                                    "1": "Nantes",
                                    "2": "France",
                                    "3": "2252.0600"
                                },
                                {
                                    "0": "Blauer See Delikatessen",
                                    "1": "Mannheim",
                                    "2": "Germany",
                                    "3": "2160.0000"
                                },
                                {
                                    "0": "La corne d'abondance",
                                    "1": "Versailles",
                                    "2": "France",
                                    "3": "1992.0500"
                                },
                                {
                                    "0": "Wilman Kala",
                                    "1": "Helsinki",
                                    "2": "Finland",
                                    "3": "1987.0000"
                                },
                                {
                                    "0": "Tortuga Restaurante",
                                    "1": "México D.F.",
                                    "2": "Mexico",
                                    "3": "1874.5000"
                                },
                                {
                                    "0": "Wolski  Zajazd",
                                    "1": "Warszawa",
                                    "2": "Poland",
                                    "3": "1865.1000"
                                },
                                {
                                    "0": "Lonesome Pine Restaurant",
                                    "1": "Portland",
                                    "2": "USA",
                                    "3": "1709.4000"
                                },
                                {
                                    "0": "Rancho grande",
                                    "1": "Buenos Aires",
                                    "2": "Argentina",
                                    "3": "1694.7000"
                                },
                                {
                                    "0": "Magazzini Alimentari Riuniti",
                                    "1": "Bergamo",
                                    "2": "Italy",
                                    "3": "1693.0000"
                                },
                                {
                                    "0": "Seven Seas Imports",
                                    "1": "London",
                                    "2": "UK",
                                    "3": "1630.0000"
                                },
                                {
                                    "0": "Cactus Comidas para llevar",
                                    "1": "Buenos Aires",
                                    "2": "Argentina",
                                    "3": "1576.8000"
                                },
                                {
                                    "0": "Die Wandernde Kuh",
                                    "1": "Stuttgart",
                                    "2": "Germany",
                                    "3": "1564.0000"
                                },
                                {
                                    "0": "La maison d'Asie",
                                    "1": "Toulouse",
                                    "2": "France",
                                    "3": "1549.9500"
                                },
                                {
                                    "0": "Pericles Comidas clásicas",
                                    "1": "México D.F.",
                                    "2": "Mexico",
                                    "3": "1496.0000"
                                },
                                {
                                    "0": "Let's Stop N Shop",
                                    "1": "San Francisco",
                                    "2": "USA",
                                    "3": "1450.6000"
                                },
                                {
                                    "0": "Que Delícia",
                                    "1": "Rio de Janeiro",
                                    "2": "Brazil",
                                    "3": "1353.6000"
                                },
                                {
                                    "0": "Franchi S.p.A.",
                                    "1": "Torino",
                                    "2": "Italy",
                                    "3": "1296.0000"
                                },
                                {
                                    "0": "Wellington Importadora",
                                    "1": "Resende",
                                    "2": "Brazil",
                                    "3": "1245.0000"
                                },
                                {
                                    "0": "Split Rail Beer & Ale",
                                    "1": "Lander",
                                    "2": "USA",
                                    "3": "1117.0000"
                                },
                                {
                                    "0": "Consolidated Holdings",
                                    "1": "London",
                                    "2": "UK",
                                    "3": "931.5000"
                                },
                                {
                                    "0": "Toms Spezialitäten",
                                    "1": "Münster",
                                    "2": "Germany",
                                    "3": "910.4000"
                                },
                                {
                                    "0": "Du monde entier",
                                    "1": "Nantes",
                                    "2": "France",
                                    "3": "860.1000"
                                },
                                {
                                    "0": "Blondesddsl père et fils",
                                    "1": "Strasbourg",
                                    "2": "France",
                                    "3": "730.0000"
                                },
                                {
                                    "0": "Romero y tomillo",
                                    "1": "Madrid",
                                    "2": "Spain",
                                    "3": "726.8900"
                                },
                                {
                                    "0": "Antonio Moreno Taquería",
                                    "1": "México D.F.",
                                    "2": "Mexico",
                                    "3": "660.0000"
                                }
                            ]
                        },
                        "text/html": [
                            "<table>",
                            "<tr><th>CompanyName</th><th>City</th><th>Country</th><th>Total</th></tr>",
                            "<tr><td>Save-a-lot Markets</td><td>Boise</td><td>USA</td><td>42806.2500</td></tr>",
                            "<tr><td>Ernst Handel</td><td>Graz</td><td>Austria</td><td>42598.9000</td></tr>",
                            "<tr><td>QUICK-Stop</td><td>Cunewalde</td><td>Germany</td><td>40526.9900</td></tr>",
                            "<tr><td>Hanari Carnes</td><td>Rio de Janeiro</td><td>Brazil</td><td>24238.0500</td></tr>",
                            "<tr><td>Hungry Owl All-Night Grocers</td><td>Cork</td><td>Ireland</td><td>22796.3400</td></tr>",
                            "<tr><td>Rattlesnake Canyon Grocery</td><td>Albuquerque</td><td>USA</td><td>21725.6000</td></tr>",
                            "<tr><td>Königlich Essen</td><td>Brandenburg</td><td>Germany</td><td>20204.9500</td></tr>",
                            "<tr><td>Folk och fä HB</td><td>Bräcke</td><td>Sweden</td><td>15973.8500</td></tr>",
                            "<tr><td>White Clover Markets</td><td>Seattle</td><td>USA</td><td>15278.9000</td></tr>",
                            "<tr><td>Bottom-Dollar Markets</td><td>Tsawassen</td><td>Canada</td><td>12227.4000</td></tr>",
                            "<tr><td>Suprêmes délices</td><td>Charleroi</td><td>Belgium</td><td>11862.5000</td></tr>",
                            "<tr><td>Great Lakes Food Market</td><td>Eugene</td><td>USA</td><td>10562.5800</td></tr>",
                            "<tr><td>LINO-Delicateses</td><td>I. de Margarita</td><td>Venezuela</td><td>10085.6000</td></tr>",
                            "<tr><td>Eastern Connection</td><td>London</td><td>UK</td><td>9569.3100</td></tr>",
                            "<tr><td>Berglunds snabbköp</td><td>Luleå</td><td>Sweden</td><td>8110.5500</td></tr>",
                            "<tr><td>Ricardo Adocicados</td><td>Rio de Janeiro</td><td>Brazil</td><td>7312.0000</td></tr>",
                            "<tr><td>Bon app'</td><td>Marseille</td><td>France</td><td>7185.9000</td></tr>",
                            "<tr><td>Godos Cocina Típica</td><td>Sevilla</td><td>Spain</td><td>7064.0500</td></tr>",
                            "<tr><td>Queen Cozinha</td><td>Sao Paulo</td><td>Brazil</td><td>7007.6500</td></tr>",
                            "<tr><td>HILARION-Abastos</td><td>San Cristóbal</td><td>Venezuela</td><td>6132.3000</td></tr>",
                            "<tr><td>LILA-Supermercado</td><td>Barquisimeto</td><td>Venezuela</td><td>5994.0600</td></tr>",
                            "<tr><td>Around the Horn</td><td>London</td><td>UK</td><td>5838.5000</td></tr>",
                            "<tr><td>Frankenversand</td><td>München</td><td>Germany</td><td>5587.0000</td></tr>",
                            "<tr><td>Richter Supermarkt</td><td>Genève</td><td>Switzerland</td><td>5497.9000</td></tr>",
                            "<tr><td>Old World Delicatessen</td><td>Anchorage</td><td>USA</td><td>5337.6500</td></tr>",
                            "<tr><td>Maison Dewey</td><td>Bruxelles</td><td>Belgium</td><td>4746.5800</td></tr>",
                            "<tr><td>Chop-suey Chinese</td><td>Bern</td><td>Switzerland</td><td>4429.4000</td></tr>",
                            "<tr><td>Tradição Hipermercados</td><td>Sao Paulo</td><td>Brazil</td><td>4401.6200</td></tr>",
                            "<tr><td>Piccolo und mehr</td><td>Salzburg</td><td>Austria</td><td>4393.7500</td></tr>",
                            "<tr><td>Vaffeljernet</td><td>Århus</td><td>Denmark</td><td>4333.5000</td></tr>",
                            "<tr><td>Reggiani Caseifici</td><td>Reggio Emilia</td><td>Italy</td><td>4263.0000</td></tr>",
                            "<tr><td>Santé Gourmet</td><td>Stavern</td><td>Norway</td><td>3976.7500</td></tr>",
                            "<tr><td>Lehmanns Marktstand</td><td>Frankfurt a.M.</td><td>Germany</td><td>3342.8500</td></tr>",
                            "<tr><td>Océano Atlántico Ltda.</td><td>Buenos Aires</td><td>Argentina</td><td>3031.0000</td></tr>",
                            "<tr><td>Victuailles en stock</td><td>Lyon</td><td>France</td><td>3022.0000</td></tr>",
                            "<tr><td>Ottilies Käseladen</td><td>Köln</td><td>Germany</td><td>3012.7000</td></tr>",
                            "<tr><td>Drachenblut Delikatessen</td><td>Aachen</td><td>Germany</td><td>2809.6100</td></tr>",
                            "<tr><td>Island Trading</td><td>Cowes</td><td>UK</td><td>2684.6000</td></tr>",
                            "<tr><td>Princesa Isabel Vinhos</td><td>Lisboa</td><td>Portugal</td><td>2633.9000</td></tr>",
                            "<tr><td>B's Beverages</td><td>London</td><td>UK</td><td>2431.0000</td></tr>",
                            "<tr><td>Spécialités du monde</td><td>Paris</td><td>France</td><td>2371.0000</td></tr>",
                            "<tr><td>Alfreds Futterkiste</td><td>Berlin</td><td>Germany</td><td>2302.2000</td></tr>",
                            "<tr><td>France restauration</td><td>Nantes</td><td>France</td><td>2252.0600</td></tr>",
                            "<tr><td>Blauer See Delikatessen</td><td>Mannheim</td><td>Germany</td><td>2160.0000</td></tr>",
                            "<tr><td>La corne d'abondance</td><td>Versailles</td><td>France</td><td>1992.0500</td></tr>",
                            "<tr><td>Wilman Kala</td><td>Helsinki</td><td>Finland</td><td>1987.0000</td></tr>",
                            "<tr><td>Tortuga Restaurante</td><td>México D.F.</td><td>Mexico</td><td>1874.5000</td></tr>",
                            "<tr><td>Wolski  Zajazd</td><td>Warszawa</td><td>Poland</td><td>1865.1000</td></tr>",
                            "<tr><td>Lonesome Pine Restaurant</td><td>Portland</td><td>USA</td><td>1709.4000</td></tr>",
                            "<tr><td>Rancho grande</td><td>Buenos Aires</td><td>Argentina</td><td>1694.7000</td></tr>",
                            "<tr><td>Magazzini Alimentari Riuniti</td><td>Bergamo</td><td>Italy</td><td>1693.0000</td></tr>",
                            "<tr><td>Seven Seas Imports</td><td>London</td><td>UK</td><td>1630.0000</td></tr>",
                            "<tr><td>Cactus Comidas para llevar</td><td>Buenos Aires</td><td>Argentina</td><td>1576.8000</td></tr>",
                            "<tr><td>Die Wandernde Kuh</td><td>Stuttgart</td><td>Germany</td><td>1564.0000</td></tr>",
                            "<tr><td>La maison d'Asie</td><td>Toulouse</td><td>France</td><td>1549.9500</td></tr>",
                            "<tr><td>Pericles Comidas clásicas</td><td>México D.F.</td><td>Mexico</td><td>1496.0000</td></tr>",
                            "<tr><td>Let's Stop N Shop</td><td>San Francisco</td><td>USA</td><td>1450.6000</td></tr>",
                            "<tr><td>Que Delícia</td><td>Rio de Janeiro</td><td>Brazil</td><td>1353.6000</td></tr>",
                            "<tr><td>Franchi S.p.A.</td><td>Torino</td><td>Italy</td><td>1296.0000</td></tr>",
                            "<tr><td>Wellington Importadora</td><td>Resende</td><td>Brazil</td><td>1245.0000</td></tr>",
                            "<tr><td>Split Rail Beer &amp; Ale</td><td>Lander</td><td>USA</td><td>1117.0000</td></tr>",
                            "<tr><td>Consolidated Holdings</td><td>London</td><td>UK</td><td>931.5000</td></tr>",
                            "<tr><td>Toms Spezialitäten</td><td>Münster</td><td>Germany</td><td>910.4000</td></tr>",
                            "<tr><td>Du monde entier</td><td>Nantes</td><td>France</td><td>860.1000</td></tr>",
                            "<tr><td>Blondesddsl père et fils</td><td>Strasbourg</td><td>France</td><td>730.0000</td></tr>",
                            "<tr><td>Romero y tomillo</td><td>Madrid</td><td>Spain</td><td>726.8900</td></tr>",
                            "<tr><td>Antonio Moreno Taquería</td><td>México D.F.</td><td>Mexico</td><td>660.0000</td></tr>",
                            "</table>"
                        ]
                    }
                }
            ],
            "execution_count": 4
        },
        {
            "cell_type": "code",
            "source": [
                "IF OBJECT_ID('dbo.Sale_Year') IS NOT NULL DROP VIEW Sale_Year\n",
                "GO\n",
                "CREATE VIEW Sale_Year AS\n",
                "(\n",
                "SELECT c.CompanyName AS [Customer Name], YEAR(o.orderdate) AS Year, (od.unitprice *\n",
                "od.Quantity) AS Sale FROM\n",
                "Customers c\n",
                "INNER JOIN Orders o\n",
                "ON c.CustomerID = o.CustomerID INNER JOIN\n",
                "[Order Details] od\n",
                "ON o.OrderID = od.OrderID\n",
                ")"
            ],
            "metadata": {
                "azdata_cell_guid": "7f309311-fc90-4e16-8224-ff527185af46"
            },
            "outputs": [
                {
                    "output_type": "display_data",
                    "data": {
                        "text/html": "Commands completed successfully."
                    },
                    "metadata": {}
                },
                {
                    "output_type": "display_data",
                    "data": {
                        "text/html": "Commands completed successfully."
                    },
                    "metadata": {}
                },
                {
                    "output_type": "display_data",
                    "data": {
                        "text/html": "Total execution time: 00:00:00.133"
                    },
                    "metadata": {}
                }
            ],
            "execution_count": 5
        },
        {
            "cell_type": "code",
            "source": [
                "SELECT * FROM Sale_year\n",
                "PIVOT (SUM(sale) for Year in ([2016],[2017],[2018])) AS SumSalesPerYear ORDER BY [Customer Name]"
            ],
            "metadata": {
                "azdata_cell_guid": "6dc8eff4-c978-4e8a-b484-9f4ae1fa51f7"
            },
            "outputs": [
                {
                    "output_type": "display_data",
                    "data": {
                        "text/html": "(89 rows affected)"
                    },
                    "metadata": {}
                },
                {
                    "output_type": "display_data",
                    "data": {
                        "text/html": "Total execution time: 00:00:00.104"
                    },
                    "metadata": {}
                },
                {
                    "output_type": "execute_result",
                    "metadata": {},
                    "execution_count": 6,
                    "data": {
                        "application/vnd.dataresource+json": {
                            "schema": {
                                "fields": [
                                    {
                                        "name": "Customer Name"
                                    },
                                    {
                                        "name": "2016"
                                    },
                                    {
                                        "name": "2017"
                                    },
                                    {
                                        "name": "2018"
                                    }
                                ]
                            },
                            "data": [
                                {
                                    "0": "Alfreds Futterkiste",
                                    "1": "NULL",
                                    "2": "2294.0000",
                                    "3": "2302.2000"
                                },
                                {
                                    "0": "Ana Trujillo Emparedados y helados",
                                    "1": "88.8000",
                                    "2": "799.7500",
                                    "3": "514.4000"
                                },
                                {
                                    "0": "Antonio Moreno Taquería",
                                    "1": "403.2000",
                                    "2": "6452.1500",
                                    "3": "660.0000"
                                },
                                {
                                    "0": "Around the Horn",
                                    "1": "1379.0000",
                                    "2": "6589.0000",
                                    "3": "5838.5000"
                                },
                                {
                                    "0": "Berglunds snabbköp",
                                    "1": "4324.4000",
                                    "2": "14533.2000",
                                    "3": "8110.5500"
                                },
                                {
                                    "0": "Blauer See Delikatessen",
                                    "1": "NULL",
                                    "2": "1079.8000",
                                    "3": "2160.0000"
                                },
                                {
                                    "0": "Blondesddsl père et fils",
                                    "1": "9986.2000",
                                    "2": "8371.8000",
                                    "3": "730.0000"
                                },
                                {
                                    "0": "Bólido Comidas preparadas",
                                    "1": "982.0000",
                                    "2": "4035.8000",
                                    "3": "280.0000"
                                },
                                {
                                    "0": "Bon app'",
                                    "1": "4202.5000",
                                    "2": "12462.5500",
                                    "3": "7185.9000"
                                },
                                {
                                    "0": "Bottom-Dollar Markets",
                                    "1": "1832.8000",
                                    "2": "8547.5000",
                                    "3": "12227.4000"
                                },
                                {
                                    "0": "B's Beverages",
                                    "1": "479.4000",
                                    "2": "3179.5000",
                                    "3": "2431.0000"
                                },
                                {
                                    "0": "Cactus Comidas para llevar",
                                    "1": "NULL",
                                    "2": "238.0000",
                                    "3": "1576.8000"
                                },
                                {
                                    "0": "Centro comercial Moctezuma",
                                    "1": "100.8000",
                                    "2": "NULL",
                                    "3": "NULL"
                                },
                                {
                                    "0": "Chop-suey Chinese",
                                    "1": "1799.2000",
                                    "2": "6657.7000",
                                    "3": "4429.4000"
                                },
                                {
                                    "0": "Comércio Mineiro",
                                    "1": "2169.0000",
                                    "2": "1128.0000",
                                    "3": "513.7500"
                                },
                                {
                                    "0": "Consolidated Holdings",
                                    "1": "NULL",
                                    "2": "787.6000",
                                    "3": "931.5000"
                                },
                                {
                                    "0": "Die Wandernde Kuh",
                                    "1": "3872.2000",
                                    "2": "5217.6500",
                                    "3": "1564.0000"
                                },
                                {
                                    "0": "Drachenblut Delikatessen",
                                    "1": "533.6000",
                                    "2": "420.0000",
                                    "3": "2809.6100"
                                },
                                {
                                    "0": "Du monde entier",
                                    "1": "268.8000",
                                    "2": "487.0000",
                                    "3": "860.1000"
                                },
                                {
                                    "0": "Eastern Connection",
                                    "1": "950.0000",
                                    "2": "4514.3500",
                                    "3": "9569.3100"
                                },
                                {
                                    "0": "Ernst Handel",
                                    "1": "17170.4000",
                                    "2": "53467.3800",
                                    "3": "42598.9000"
                                },
                                {
                                    "0": "Familia Arquibaldo",
                                    "1": "1094.0000",
                                    "2": "3344.9000",
                                    "3": "NULL"
                                },
                                {
                                    "0": "Folies gourmandes",
                                    "1": "NULL",
                                    "2": "11666.9000",
                                    "3": "NULL"
                                },
                                {
                                    "0": "Folk och fä HB",
                                    "1": "3090.2000",
                                    "2": "13491.5000",
                                    "3": "15973.8500"
                                },
                                {
                                    "0": "France restauration",
                                    "1": "NULL",
                                    "2": "920.1000",
                                    "3": "2252.0600"
                                },
                                {
                                    "0": "Franchi S.p.A.",
                                    "1": "NULL",
                                    "2": "249.7000",
                                    "3": "1296.0000"
                                },
                                {
                                    "0": "Frankenversand",
                                    "1": "10702.6000",
                                    "2": "12433.1100",
                                    "3": "5587.0000"
                                },
                                {
                                    "0": "Furia Bacalhau e Frutos do Mar",
                                    "1": "1322.0000",
                                    "2": "5761.5500",
                                    "3": "68.0000"
                                },
                                {
                                    "0": "Galería del gastrónomo",
                                    "1": "136.0000",
                                    "2": "493.2000",
                                    "3": "207.5000"
                                },
                                {
                                    "0": "Godos Cocina Típica",
                                    "1": "1242.0000",
                                    "2": "3524.0500",
                                    "3": "7064.0500"
                                },
                                {
                                    "0": "Gourmet Lanchonetes",
                                    "1": "NULL",
                                    "2": "8205.2300",
                                    "3": "497.0000"
                                },
                                {
                                    "0": "Great Lakes Food Market",
                                    "1": "NULL",
                                    "2": "9148.5500",
                                    "3": "10562.5800"
                                },
                                {
                                    "0": "GROSELLA-Restaurante",
                                    "1": "1101.2000",
                                    "2": "387.5000",
                                    "3": "NULL"
                                },
                                {
                                    "0": "Hanari Carnes",
                                    "1": "3257.8000",
                                    "2": "6605.3000",
                                    "3": "24238.0500"
                                },
                                {
                                    "0": "HILARION-Abastos",
                                    "1": "3453.1000",
                                    "2": "14026.1800",
                                    "3": "6132.3000"
                                },
                                {
                                    "0": "Hungry Coyote Import Store",
                                    "1": "780.0000",
                                    "2": "2283.2000",
                                    "3": "NULL"
                                },
                                {
                                    "0": "Hungry Owl All-Night Grocers",
                                    "1": "10562.0000",
                                    "2": "23959.0500",
                                    "3": "22796.3400"
                                },
                                {
                                    "0": "Island Trading",
                                    "1": "901.2000",
                                    "2": "2560.5000",
                                    "3": "2684.6000"
                                },
                                {
                                    "0": "Königlich Essen",
                                    "1": "1661.4000",
                                    "2": "9879.4000",
                                    "3": "20204.9500"
                                },
                                {
                                    "0": "La corne d'abondance",
                                    "1": "NULL",
                                    "2": "NULL",
                                    "3": "1992.0500"
                                },
                                {
                                    "0": "La maison d'Asie",
                                    "1": "1256.6000",
                                    "2": "7465.8000",
                                    "3": "1549.9500"
                                },
                                {
                                    "0": "Laughing Bacchus Wine Cellars",
                                    "1": "NULL",
                                    "2": "335.5000",
                                    "3": "187.0000"
                                },
                                {
                                    "0": "Lazy K Kountry Store",
                                    "1": "NULL",
                                    "2": "357.0000",
                                    "3": "NULL"
                                },
                                {
                                    "0": "Lehmanns Marktstand",
                                    "1": "3506.0000",
                                    "2": "14433.1700",
                                    "3": "3342.8500"
                                },
                                {
                                    "0": "Let's Stop N Shop",
                                    "1": "NULL",
                                    "2": "2039.4200",
                                    "3": "1450.6000"
                                },
                                {
                                    "0": "LILA-Supermercado",
                                    "1": "5877.4000",
                                    "2": "5953.6000",
                                    "3": "5994.0600"
                                },
                                {
                                    "0": "LINO-Delicateses",
                                    "1": "NULL",
                                    "2": "7803.9500",
                                    "3": "10085.6000"
                                },
                                {
                                    "0": "Lonesome Pine Restaurant",
                                    "1": "712.0000",
                                    "2": "1837.2000",
                                    "3": "1709.4000"
                                },
                                {
                                    "0": "Magazzini Alimentari Riuniti",
                                    "1": "915.2000",
                                    "2": "4995.6500",
                                    "3": "1693.0000"
                                },
                                {
                                    "0": "Maison Dewey",
                                    "1": "NULL",
                                    "2": "5684.0000",
                                    "3": "4746.5800"
                                },
                                {
                                    "0": "Mère Paillarde",
                                    "1": "6116.8000",
                                    "2": "26087.1000",
                                    "3": "NULL"
                                },
                                {
                                    "0": "Morgenstern Gesundkost",
                                    "1": "1200.8000",
                                    "2": "3596.4000",
                                    "3": "245.0000"
                                },
                                {
                                    "0": "North/South",
                                    "1": "NULL",
                                    "2": "604.0000",
                                    "3": "45.0000"
                                },
                                {
                                    "0": "Océano Atlántico Ltda.",
                                    "1": "NULL",
                                    "2": "429.2000",
                                    "3": "3031.0000"
                                },
                                {
                                    "0": "Old World Delicatessen",
                                    "1": "5091.5000",
                                    "2": "5896.0000",
                                    "3": "5337.6500"
                                },
                                {
                                    "0": "Ottilies Käseladen",
                                    "1": "1746.2000",
                                    "2": "8398.6000",
                                    "3": "3012.7000"
                                },
                                {
                                    "0": "Pericles Comidas clásicas",
                                    "1": "680.8000",
                                    "2": "2065.4000",
                                    "3": "1496.0000"
                                },
                                {
                                    "0": "Piccolo und mehr",
                                    "1": "12181.6000",
                                    "2": "9684.6000",
                                    "3": "4393.7500"
                                },
                                {
                                    "0": "Princesa Isabel Vinhos",
                                    "1": "1160.0000",
                                    "2": "1523.2000",
                                    "3": "2633.9000"
                                },
                                {
                                    "0": "Que Delícia",
                                    "1": "1960.0000",
                                    "2": "3660.0300",
                                    "3": "1353.6000"
                                },
                                {
                                    "0": "Queen Cozinha",
                                    "1": "12281.2000",
                                    "2": "10937.2500",
                                    "3": "7007.6500"
                                },
                                {
                                    "0": "QUICK-Stop",
                                    "1": "12718.4000",
                                    "2": "64238.0000",
                                    "3": "40526.9900"
                                },
                                {
                                    "0": "Rancho grande",
                                    "1": "NULL",
                                    "2": "1149.4000",
                                    "3": "1694.7000"
                                },
                                {
                                    "0": "Rattlesnake Canyon Grocery",
                                    "1": "10861.6000",
                                    "2": "19658.7000",
                                    "3": "21725.6000"
                                },
                                {
                                    "0": "Reggiani Caseifici",
                                    "1": "89.0000",
                                    "2": "3203.6000",
                                    "3": "4263.0000"
                                },
                                {
                                    "0": "Ricardo Adocicados",
                                    "1": "1273.5000",
                                    "2": "4338.9000",
                                    "3": "7312.0000"
                                },
                                {
                                    "0": "Richter Supermarkt",
                                    "1": "2490.5000",
                                    "2": "12044.8000",
                                    "3": "5497.9000"
                                },
                                {
                                    "0": "Romero y tomillo",
                                    "1": "740.4000",
                                    "2": "NULL",
                                    "3": "726.8900"
                                },
                                {
                                    "0": "Santé Gourmet",
                                    "1": "1058.4000",
                                    "2": "700.0000",
                                    "3": "3976.7500"
                                },
                                {
                                    "0": "Save-a-lot Markets",
                                    "1": "12194.5000",
                                    "2": "60672.6400",
                                    "3": "42806.2500"
                                },
                                {
                                    "0": "Seven Seas Imports",
                                    "1": "5944.4000",
                                    "2": "9597.6500",
                                    "3": "1630.0000"
                                },
                                {
                                    "0": "Simons bistro",
                                    "1": "412.0000",
                                    "2": "17482.1500",
                                    "3": "244.3000"
                                },
                                {
                                    "0": "Spécialités du monde",
                                    "1": "NULL",
                                    "2": "52.3500",
                                    "3": "2371.0000"
                                },
                                {
                                    "0": "Split Rail Beer & Ale",
                                    "1": "8400.2000",
                                    "2": "2972.5000",
                                    "3": "1117.0000"
                                },
                                {
                                    "0": "Suprêmes délices",
                                    "1": "6438.8000",
                                    "2": "6403.1000",
                                    "3": "11862.5000"
                                },
                                {
                                    "0": "The Big Cheese",
                                    "1": "336.0000",
                                    "2": "2955.4000",
                                    "3": "69.6000"
                                },
                                {
                                    "0": "The Cracker Box",
                                    "1": "NULL",
                                    "2": "1621.2400",
                                    "3": "326.0000"
                                },
                                {
                                    "0": "Toms Spezialitäten",
                                    "1": "1863.4000",
                                    "2": "2180.2000",
                                    "3": "910.4000"
                                },
                                {
                                    "0": "Tortuga Restaurante",
                                    "1": "3414.3000",
                                    "2": "5523.3500",
                                    "3": "1874.5000"
                                },
                                {
                                    "0": "Tradição Hipermercados",
                                    "1": "1296.0000",
                                    "2": "1613.0000",
                                    "3": "4401.6200"
                                },
                                {
                                    "0": "Trail's Head Gourmet Provisioners",
                                    "1": "NULL",
                                    "2": "1333.3000",
                                    "3": "237.9000"
                                },
                                {
                                    "0": "Vaffeljernet",
                                    "1": "2599.8000",
                                    "2": "9710.5000",
                                    "3": "4333.5000"
                                },
                                {
                                    "0": "Victuailles en stock",
                                    "1": "815.6000",
                                    "2": "6099.5000",
                                    "3": "3022.0000"
                                },
                                {
                                    "0": "Vins et alcools Chevalier",
                                    "1": "1100.2000",
                                    "2": "379.8000",
                                    "3": "NULL"
                                },
                                {
                                    "0": "Wartian Herkku",
                                    "1": "3210.8000",
                                    "2": "13106.3000",
                                    "3": "300.0000"
                                },
                                {
                                    "0": "Wellington Importadora",
                                    "1": "517.8000",
                                    "2": "4717.9000",
                                    "3": "1245.0000"
                                },
                                {
                                    "0": "White Clover Markets",
                                    "1": "3532.0000",
                                    "2": "10262.5500",
                                    "3": "15278.9000"
                                },
                                {
                                    "0": "Wilman Kala",
                                    "1": "NULL",
                                    "2": "1174.3500",
                                    "3": "1987.0000"
                                },
                                {
                                    "0": "Wolski  Zajazd",
                                    "1": "459.0000",
                                    "2": "1207.8500",
                                    "3": "1865.1000"
                                }
                            ]
                        },
                        "text/html": [
                            "<table>",
                            "<tr><th>Customer Name</th><th>2016</th><th>2017</th><th>2018</th></tr>",
                            "<tr><td>Alfreds Futterkiste</td><td>NULL</td><td>2294.0000</td><td>2302.2000</td></tr>",
                            "<tr><td>Ana Trujillo Emparedados y helados</td><td>88.8000</td><td>799.7500</td><td>514.4000</td></tr>",
                            "<tr><td>Antonio Moreno Taquería</td><td>403.2000</td><td>6452.1500</td><td>660.0000</td></tr>",
                            "<tr><td>Around the Horn</td><td>1379.0000</td><td>6589.0000</td><td>5838.5000</td></tr>",
                            "<tr><td>Berglunds snabbköp</td><td>4324.4000</td><td>14533.2000</td><td>8110.5500</td></tr>",
                            "<tr><td>Blauer See Delikatessen</td><td>NULL</td><td>1079.8000</td><td>2160.0000</td></tr>",
                            "<tr><td>Blondesddsl père et fils</td><td>9986.2000</td><td>8371.8000</td><td>730.0000</td></tr>",
                            "<tr><td>Bólido Comidas preparadas</td><td>982.0000</td><td>4035.8000</td><td>280.0000</td></tr>",
                            "<tr><td>Bon app'</td><td>4202.5000</td><td>12462.5500</td><td>7185.9000</td></tr>",
                            "<tr><td>Bottom-Dollar Markets</td><td>1832.8000</td><td>8547.5000</td><td>12227.4000</td></tr>",
                            "<tr><td>B's Beverages</td><td>479.4000</td><td>3179.5000</td><td>2431.0000</td></tr>",
                            "<tr><td>Cactus Comidas para llevar</td><td>NULL</td><td>238.0000</td><td>1576.8000</td></tr>",
                            "<tr><td>Centro comercial Moctezuma</td><td>100.8000</td><td>NULL</td><td>NULL</td></tr>",
                            "<tr><td>Chop-suey Chinese</td><td>1799.2000</td><td>6657.7000</td><td>4429.4000</td></tr>",
                            "<tr><td>Comércio Mineiro</td><td>2169.0000</td><td>1128.0000</td><td>513.7500</td></tr>",
                            "<tr><td>Consolidated Holdings</td><td>NULL</td><td>787.6000</td><td>931.5000</td></tr>",
                            "<tr><td>Die Wandernde Kuh</td><td>3872.2000</td><td>5217.6500</td><td>1564.0000</td></tr>",
                            "<tr><td>Drachenblut Delikatessen</td><td>533.6000</td><td>420.0000</td><td>2809.6100</td></tr>",
                            "<tr><td>Du monde entier</td><td>268.8000</td><td>487.0000</td><td>860.1000</td></tr>",
                            "<tr><td>Eastern Connection</td><td>950.0000</td><td>4514.3500</td><td>9569.3100</td></tr>",
                            "<tr><td>Ernst Handel</td><td>17170.4000</td><td>53467.3800</td><td>42598.9000</td></tr>",
                            "<tr><td>Familia Arquibaldo</td><td>1094.0000</td><td>3344.9000</td><td>NULL</td></tr>",
                            "<tr><td>Folies gourmandes</td><td>NULL</td><td>11666.9000</td><td>NULL</td></tr>",
                            "<tr><td>Folk och fä HB</td><td>3090.2000</td><td>13491.5000</td><td>15973.8500</td></tr>",
                            "<tr><td>France restauration</td><td>NULL</td><td>920.1000</td><td>2252.0600</td></tr>",
                            "<tr><td>Franchi S.p.A.</td><td>NULL</td><td>249.7000</td><td>1296.0000</td></tr>",
                            "<tr><td>Frankenversand</td><td>10702.6000</td><td>12433.1100</td><td>5587.0000</td></tr>",
                            "<tr><td>Furia Bacalhau e Frutos do Mar</td><td>1322.0000</td><td>5761.5500</td><td>68.0000</td></tr>",
                            "<tr><td>Galería del gastrónomo</td><td>136.0000</td><td>493.2000</td><td>207.5000</td></tr>",
                            "<tr><td>Godos Cocina Típica</td><td>1242.0000</td><td>3524.0500</td><td>7064.0500</td></tr>",
                            "<tr><td>Gourmet Lanchonetes</td><td>NULL</td><td>8205.2300</td><td>497.0000</td></tr>",
                            "<tr><td>Great Lakes Food Market</td><td>NULL</td><td>9148.5500</td><td>10562.5800</td></tr>",
                            "<tr><td>GROSELLA-Restaurante</td><td>1101.2000</td><td>387.5000</td><td>NULL</td></tr>",
                            "<tr><td>Hanari Carnes</td><td>3257.8000</td><td>6605.3000</td><td>24238.0500</td></tr>",
                            "<tr><td>HILARION-Abastos</td><td>3453.1000</td><td>14026.1800</td><td>6132.3000</td></tr>",
                            "<tr><td>Hungry Coyote Import Store</td><td>780.0000</td><td>2283.2000</td><td>NULL</td></tr>",
                            "<tr><td>Hungry Owl All-Night Grocers</td><td>10562.0000</td><td>23959.0500</td><td>22796.3400</td></tr>",
                            "<tr><td>Island Trading</td><td>901.2000</td><td>2560.5000</td><td>2684.6000</td></tr>",
                            "<tr><td>Königlich Essen</td><td>1661.4000</td><td>9879.4000</td><td>20204.9500</td></tr>",
                            "<tr><td>La corne d'abondance</td><td>NULL</td><td>NULL</td><td>1992.0500</td></tr>",
                            "<tr><td>La maison d'Asie</td><td>1256.6000</td><td>7465.8000</td><td>1549.9500</td></tr>",
                            "<tr><td>Laughing Bacchus Wine Cellars</td><td>NULL</td><td>335.5000</td><td>187.0000</td></tr>",
                            "<tr><td>Lazy K Kountry Store</td><td>NULL</td><td>357.0000</td><td>NULL</td></tr>",
                            "<tr><td>Lehmanns Marktstand</td><td>3506.0000</td><td>14433.1700</td><td>3342.8500</td></tr>",
                            "<tr><td>Let's Stop N Shop</td><td>NULL</td><td>2039.4200</td><td>1450.6000</td></tr>",
                            "<tr><td>LILA-Supermercado</td><td>5877.4000</td><td>5953.6000</td><td>5994.0600</td></tr>",
                            "<tr><td>LINO-Delicateses</td><td>NULL</td><td>7803.9500</td><td>10085.6000</td></tr>",
                            "<tr><td>Lonesome Pine Restaurant</td><td>712.0000</td><td>1837.2000</td><td>1709.4000</td></tr>",
                            "<tr><td>Magazzini Alimentari Riuniti</td><td>915.2000</td><td>4995.6500</td><td>1693.0000</td></tr>",
                            "<tr><td>Maison Dewey</td><td>NULL</td><td>5684.0000</td><td>4746.5800</td></tr>",
                            "<tr><td>Mère Paillarde</td><td>6116.8000</td><td>26087.1000</td><td>NULL</td></tr>",
                            "<tr><td>Morgenstern Gesundkost</td><td>1200.8000</td><td>3596.4000</td><td>245.0000</td></tr>",
                            "<tr><td>North/South</td><td>NULL</td><td>604.0000</td><td>45.0000</td></tr>",
                            "<tr><td>Océano Atlántico Ltda.</td><td>NULL</td><td>429.2000</td><td>3031.0000</td></tr>",
                            "<tr><td>Old World Delicatessen</td><td>5091.5000</td><td>5896.0000</td><td>5337.6500</td></tr>",
                            "<tr><td>Ottilies Käseladen</td><td>1746.2000</td><td>8398.6000</td><td>3012.7000</td></tr>",
                            "<tr><td>Pericles Comidas clásicas</td><td>680.8000</td><td>2065.4000</td><td>1496.0000</td></tr>",
                            "<tr><td>Piccolo und mehr</td><td>12181.6000</td><td>9684.6000</td><td>4393.7500</td></tr>",
                            "<tr><td>Princesa Isabel Vinhos</td><td>1160.0000</td><td>1523.2000</td><td>2633.9000</td></tr>",
                            "<tr><td>Que Delícia</td><td>1960.0000</td><td>3660.0300</td><td>1353.6000</td></tr>",
                            "<tr><td>Queen Cozinha</td><td>12281.2000</td><td>10937.2500</td><td>7007.6500</td></tr>",
                            "<tr><td>QUICK-Stop</td><td>12718.4000</td><td>64238.0000</td><td>40526.9900</td></tr>",
                            "<tr><td>Rancho grande</td><td>NULL</td><td>1149.4000</td><td>1694.7000</td></tr>",
                            "<tr><td>Rattlesnake Canyon Grocery</td><td>10861.6000</td><td>19658.7000</td><td>21725.6000</td></tr>",
                            "<tr><td>Reggiani Caseifici</td><td>89.0000</td><td>3203.6000</td><td>4263.0000</td></tr>",
                            "<tr><td>Ricardo Adocicados</td><td>1273.5000</td><td>4338.9000</td><td>7312.0000</td></tr>",
                            "<tr><td>Richter Supermarkt</td><td>2490.5000</td><td>12044.8000</td><td>5497.9000</td></tr>",
                            "<tr><td>Romero y tomillo</td><td>740.4000</td><td>NULL</td><td>726.8900</td></tr>",
                            "<tr><td>Santé Gourmet</td><td>1058.4000</td><td>700.0000</td><td>3976.7500</td></tr>",
                            "<tr><td>Save-a-lot Markets</td><td>12194.5000</td><td>60672.6400</td><td>42806.2500</td></tr>",
                            "<tr><td>Seven Seas Imports</td><td>5944.4000</td><td>9597.6500</td><td>1630.0000</td></tr>",
                            "<tr><td>Simons bistro</td><td>412.0000</td><td>17482.1500</td><td>244.3000</td></tr>",
                            "<tr><td>Spécialités du monde</td><td>NULL</td><td>52.3500</td><td>2371.0000</td></tr>",
                            "<tr><td>Split Rail Beer &amp; Ale</td><td>8400.2000</td><td>2972.5000</td><td>1117.0000</td></tr>",
                            "<tr><td>Suprêmes délices</td><td>6438.8000</td><td>6403.1000</td><td>11862.5000</td></tr>",
                            "<tr><td>The Big Cheese</td><td>336.0000</td><td>2955.4000</td><td>69.6000</td></tr>",
                            "<tr><td>The Cracker Box</td><td>NULL</td><td>1621.2400</td><td>326.0000</td></tr>",
                            "<tr><td>Toms Spezialitäten</td><td>1863.4000</td><td>2180.2000</td><td>910.4000</td></tr>",
                            "<tr><td>Tortuga Restaurante</td><td>3414.3000</td><td>5523.3500</td><td>1874.5000</td></tr>",
                            "<tr><td>Tradição Hipermercados</td><td>1296.0000</td><td>1613.0000</td><td>4401.6200</td></tr>",
                            "<tr><td>Trail's Head Gourmet Provisioners</td><td>NULL</td><td>1333.3000</td><td>237.9000</td></tr>",
                            "<tr><td>Vaffeljernet</td><td>2599.8000</td><td>9710.5000</td><td>4333.5000</td></tr>",
                            "<tr><td>Victuailles en stock</td><td>815.6000</td><td>6099.5000</td><td>3022.0000</td></tr>",
                            "<tr><td>Vins et alcools Chevalier</td><td>1100.2000</td><td>379.8000</td><td>NULL</td></tr>",
                            "<tr><td>Wartian Herkku</td><td>3210.8000</td><td>13106.3000</td><td>300.0000</td></tr>",
                            "<tr><td>Wellington Importadora</td><td>517.8000</td><td>4717.9000</td><td>1245.0000</td></tr>",
                            "<tr><td>White Clover Markets</td><td>3532.0000</td><td>10262.5500</td><td>15278.9000</td></tr>",
                            "<tr><td>Wilman Kala</td><td>NULL</td><td>1174.3500</td><td>1987.0000</td></tr>",
                            "<tr><td>Wolski  Zajazd</td><td>459.0000</td><td>1207.8500</td><td>1865.1000</td></tr>",
                            "</table>"
                        ]
                    }
                }
            ],
            "execution_count": 6
        },
        {
            "cell_type": "code",
            "source": [
                "SELECT c.CompanyName, c.City ,\n",
                "(SELECT COUNT(OrderID) FROM Orders o\n",
                "WHERE c.CustomerID = o.CustomerID ) AS [Number Of Orders] FROM Customers c\n",
                "ORDER BY [Number Of Orders] DESC"
            ],
            "metadata": {
                "azdata_cell_guid": "c0295351-531f-470e-95f2-4a35ccf63a19"
            },
            "outputs": [
                {
                    "output_type": "display_data",
                    "data": {
                        "text/html": "(91 rows affected)"
                    },
                    "metadata": {}
                },
                {
                    "output_type": "display_data",
                    "data": {
                        "text/html": "Total execution time: 00:00:00.041"
                    },
                    "metadata": {}
                },
                {
                    "output_type": "execute_result",
                    "metadata": {},
                    "execution_count": 8,
                    "data": {
                        "application/vnd.dataresource+json": {
                            "schema": {
                                "fields": [
                                    {
                                        "name": "CompanyName"
                                    },
                                    {
                                        "name": "City"
                                    },
                                    {
                                        "name": "Number Of Orders"
                                    }
                                ]
                            },
                            "data": [
                                {
                                    "0": "Save-a-lot Markets",
                                    "1": "Boise",
                                    "2": "31"
                                },
                                {
                                    "0": "Ernst Handel",
                                    "1": "Graz",
                                    "2": "30"
                                },
                                {
                                    "0": "QUICK-Stop",
                                    "1": "Cunewalde",
                                    "2": "28"
                                },
                                {
                                    "0": "Hungry Owl All-Night Grocers",
                                    "1": "Cork",
                                    "2": "19"
                                },
                                {
                                    "0": "Folk och fä HB",
                                    "1": "Bräcke",
                                    "2": "19"
                                },
                                {
                                    "0": "HILARION-Abastos",
                                    "1": "San Cristóbal",
                                    "2": "18"
                                },
                                {
                                    "0": "Berglunds snabbköp",
                                    "1": "Luleå",
                                    "2": "18"
                                },
                                {
                                    "0": "Rattlesnake Canyon Grocery",
                                    "1": "Albuquerque",
                                    "2": "18"
                                },
                                {
                                    "0": "Bon app'",
                                    "1": "Marseille",
                                    "2": "17"
                                },
                                {
                                    "0": "Frankenversand",
                                    "1": "München",
                                    "2": "15"
                                },
                                {
                                    "0": "Lehmanns Marktstand",
                                    "1": "Frankfurt a.M.",
                                    "2": "15"
                                },
                                {
                                    "0": "Wartian Herkku",
                                    "1": "Oulu",
                                    "2": "15"
                                },
                                {
                                    "0": "White Clover Markets",
                                    "1": "Seattle",
                                    "2": "14"
                                },
                                {
                                    "0": "La maison d'Asie",
                                    "1": "Toulouse",
                                    "2": "14"
                                },
                                {
                                    "0": "Königlich Essen",
                                    "1": "Brandenburg",
                                    "2": "14"
                                },
                                {
                                    "0": "LILA-Supermercado",
                                    "1": "Barquisimeto",
                                    "2": "14"
                                },
                                {
                                    "0": "Hanari Carnes",
                                    "1": "Rio de Janeiro",
                                    "2": "14"
                                },
                                {
                                    "0": "Bottom-Dollar Markets",
                                    "1": "Tsawassen",
                                    "2": "14"
                                },
                                {
                                    "0": "Around the Horn",
                                    "1": "London",
                                    "2": "13"
                                },
                                {
                                    "0": "Mère Paillarde",
                                    "1": "Montréal",
                                    "2": "13"
                                },
                                {
                                    "0": "Queen Cozinha",
                                    "1": "Sao Paulo",
                                    "2": "13"
                                },
                                {
                                    "0": "Reggiani Caseifici",
                                    "1": "Reggio Emilia",
                                    "2": "12"
                                },
                                {
                                    "0": "LINO-Delicateses",
                                    "1": "I. de Margarita",
                                    "2": "12"
                                },
                                {
                                    "0": "Suprêmes délices",
                                    "1": "Charleroi",
                                    "2": "12"
                                },
                                {
                                    "0": "Vaffeljernet",
                                    "1": "Århus",
                                    "2": "11"
                                },
                                {
                                    "0": "Ricardo Adocicados",
                                    "1": "Rio de Janeiro",
                                    "2": "11"
                                },
                                {
                                    "0": "Blondesddsl père et fils",
                                    "1": "Strasbourg",
                                    "2": "11"
                                },
                                {
                                    "0": "Great Lakes Food Market",
                                    "1": "Eugene",
                                    "2": "11"
                                },
                                {
                                    "0": "Godos Cocina Típica",
                                    "1": "Sevilla",
                                    "2": "10"
                                },
                                {
                                    "0": "B's Beverages",
                                    "1": "London",
                                    "2": "10"
                                },
                                {
                                    "0": "Richter Supermarkt",
                                    "1": "Genève",
                                    "2": "10"
                                },
                                {
                                    "0": "Piccolo und mehr",
                                    "1": "Salzburg",
                                    "2": "10"
                                },
                                {
                                    "0": "Magazzini Alimentari Riuniti",
                                    "1": "Bergamo",
                                    "2": "10"
                                },
                                {
                                    "0": "Old World Delicatessen",
                                    "1": "Anchorage",
                                    "2": "10"
                                },
                                {
                                    "0": "Ottilies Käseladen",
                                    "1": "Köln",
                                    "2": "10"
                                },
                                {
                                    "0": "Island Trading",
                                    "1": "Cowes",
                                    "2": "10"
                                },
                                {
                                    "0": "Victuailles en stock",
                                    "1": "Lyon",
                                    "2": "10"
                                },
                                {
                                    "0": "Tortuga Restaurante",
                                    "1": "México D.F.",
                                    "2": "10"
                                },
                                {
                                    "0": "Die Wandernde Kuh",
                                    "1": "Stuttgart",
                                    "2": "10"
                                },
                                {
                                    "0": "Wellington Importadora",
                                    "1": "Resende",
                                    "2": "9"
                                },
                                {
                                    "0": "Split Rail Beer & Ale",
                                    "1": "Lander",
                                    "2": "9"
                                },
                                {
                                    "0": "Que Delícia",
                                    "1": "Rio de Janeiro",
                                    "2": "9"
                                },
                                {
                                    "0": "Seven Seas Imports",
                                    "1": "London",
                                    "2": "9"
                                },
                                {
                                    "0": "Gourmet Lanchonetes",
                                    "1": "Campinas",
                                    "2": "9"
                                },
                                {
                                    "0": "Furia Bacalhau e Frutos do Mar",
                                    "1": "Lisboa",
                                    "2": "8"
                                },
                                {
                                    "0": "Eastern Connection",
                                    "1": "London",
                                    "2": "8"
                                },
                                {
                                    "0": "Chop-suey Chinese",
                                    "1": "Bern",
                                    "2": "8"
                                },
                                {
                                    "0": "Lonesome Pine Restaurant",
                                    "1": "Portland",
                                    "2": "8"
                                },
                                {
                                    "0": "Maison Dewey",
                                    "1": "Bruxelles",
                                    "2": "7"
                                },
                                {
                                    "0": "Simons bistro",
                                    "1": "Kobenhavn",
                                    "2": "7"
                                },
                                {
                                    "0": "Blauer See Delikatessen",
                                    "1": "Mannheim",
                                    "2": "7"
                                },
                                {
                                    "0": "Antonio Moreno Taquería",
                                    "1": "México D.F.",
                                    "2": "7"
                                },
                                {
                                    "0": "Familia Arquibaldo",
                                    "1": "Sao Paulo",
                                    "2": "7"
                                },
                                {
                                    "0": "Wilman Kala",
                                    "1": "Helsinki",
                                    "2": "7"
                                },
                                {
                                    "0": "Wolski  Zajazd",
                                    "1": "Warszawa",
                                    "2": "7"
                                },
                                {
                                    "0": "Toms Spezialitäten",
                                    "1": "Münster",
                                    "2": "6"
                                },
                                {
                                    "0": "Santé Gourmet",
                                    "1": "Stavern",
                                    "2": "6"
                                },
                                {
                                    "0": "Tradição Hipermercados",
                                    "1": "Sao Paulo",
                                    "2": "6"
                                },
                                {
                                    "0": "Franchi S.p.A.",
                                    "1": "Torino",
                                    "2": "6"
                                },
                                {
                                    "0": "Alfreds Futterkiste",
                                    "1": "Berlin",
                                    "2": "6"
                                },
                                {
                                    "0": "Drachenblut Delikatessen",
                                    "1": "Aachen",
                                    "2": "6"
                                },
                                {
                                    "0": "Cactus Comidas para llevar",
                                    "1": "Buenos Aires",
                                    "2": "6"
                                },
                                {
                                    "0": "Pericles Comidas clásicas",
                                    "1": "México D.F.",
                                    "2": "6"
                                },
                                {
                                    "0": "Océano Atlántico Ltda.",
                                    "1": "Buenos Aires",
                                    "2": "5"
                                },
                                {
                                    "0": "Princesa Isabel Vinhos",
                                    "1": "Lisboa",
                                    "2": "5"
                                },
                                {
                                    "0": "Rancho grande",
                                    "1": "Buenos Aires",
                                    "2": "5"
                                },
                                {
                                    "0": "Romero y tomillo",
                                    "1": "Madrid",
                                    "2": "5"
                                },
                                {
                                    "0": "Morgenstern Gesundkost",
                                    "1": "Leipzig",
                                    "2": "5"
                                },
                                {
                                    "0": "Comércio Mineiro",
                                    "1": "Sao Paulo",
                                    "2": "5"
                                },
                                {
                                    "0": "Hungry Coyote Import Store",
                                    "1": "Elgin",
                                    "2": "5"
                                },
                                {
                                    "0": "Folies gourmandes",
                                    "1": "Lille",
                                    "2": "5"
                                },
                                {
                                    "0": "Galería del gastrónomo",
                                    "1": "Barcelona",
                                    "2": "5"
                                },
                                {
                                    "0": "Vins et alcools Chevalier",
                                    "1": "Reims",
                                    "2": "5"
                                },
                                {
                                    "0": "The Big Cheese",
                                    "1": "Portland",
                                    "2": "4"
                                },
                                {
                                    "0": "Du monde entier",
                                    "1": "Nantes",
                                    "2": "4"
                                },
                                {
                                    "0": "Ana Trujillo Emparedados y helados",
                                    "1": "México D.F.",
                                    "2": "4"
                                },
                                {
                                    "0": "La corne d'abondance",
                                    "1": "Versailles",
                                    "2": "4"
                                },
                                {
                                    "0": "Let's Stop N Shop",
                                    "1": "San Francisco",
                                    "2": "4"
                                },
                                {
                                    "0": "Spécialités du monde",
                                    "1": "Paris",
                                    "2": "4"
                                },
                                {
                                    "0": "Laughing Bacchus Wine Cellars",
                                    "1": "Vancouver",
                                    "2": "3"
                                },
                                {
                                    "0": "North/South",
                                    "1": "London",
                                    "2": "3"
                                },
                                {
                                    "0": "Bólido Comidas preparadas",
                                    "1": "Madrid",
                                    "2": "3"
                                },
                                {
                                    "0": "Consolidated Holdings",
                                    "1": "London",
                                    "2": "3"
                                },
                                {
                                    "0": "France restauration",
                                    "1": "Nantes",
                                    "2": "3"
                                },
                                {
                                    "0": "The Cracker Box",
                                    "1": "Butte",
                                    "2": "3"
                                },
                                {
                                    "0": "Trail's Head Gourmet Provisioners",
                                    "1": "Kirkland",
                                    "2": "3"
                                },
                                {
                                    "0": "GROSELLA-Restaurante",
                                    "1": "Caracas",
                                    "2": "2"
                                },
                                {
                                    "0": "Lazy K Kountry Store",
                                    "1": "Walla Walla",
                                    "2": "2"
                                },
                                {
                                    "0": "Centro comercial Moctezuma",
                                    "1": "México D.F.",
                                    "2": "1"
                                },
                                {
                                    "0": "FISSA Fabrica Inter. Salchichas S.A.",
                                    "1": "Madrid",
                                    "2": "0"
                                },
                                {
                                    "0": "Paris spécialités",
                                    "1": "Paris",
                                    "2": "0"
                                }
                            ]
                        },
                        "text/html": [
                            "<table>",
                            "<tr><th>CompanyName</th><th>City</th><th>Number Of Orders</th></tr>",
                            "<tr><td>Save-a-lot Markets</td><td>Boise</td><td>31</td></tr>",
                            "<tr><td>Ernst Handel</td><td>Graz</td><td>30</td></tr>",
                            "<tr><td>QUICK-Stop</td><td>Cunewalde</td><td>28</td></tr>",
                            "<tr><td>Hungry Owl All-Night Grocers</td><td>Cork</td><td>19</td></tr>",
                            "<tr><td>Folk och fä HB</td><td>Bräcke</td><td>19</td></tr>",
                            "<tr><td>HILARION-Abastos</td><td>San Cristóbal</td><td>18</td></tr>",
                            "<tr><td>Berglunds snabbköp</td><td>Luleå</td><td>18</td></tr>",
                            "<tr><td>Rattlesnake Canyon Grocery</td><td>Albuquerque</td><td>18</td></tr>",
                            "<tr><td>Bon app'</td><td>Marseille</td><td>17</td></tr>",
                            "<tr><td>Frankenversand</td><td>München</td><td>15</td></tr>",
                            "<tr><td>Lehmanns Marktstand</td><td>Frankfurt a.M.</td><td>15</td></tr>",
                            "<tr><td>Wartian Herkku</td><td>Oulu</td><td>15</td></tr>",
                            "<tr><td>White Clover Markets</td><td>Seattle</td><td>14</td></tr>",
                            "<tr><td>La maison d'Asie</td><td>Toulouse</td><td>14</td></tr>",
                            "<tr><td>Königlich Essen</td><td>Brandenburg</td><td>14</td></tr>",
                            "<tr><td>LILA-Supermercado</td><td>Barquisimeto</td><td>14</td></tr>",
                            "<tr><td>Hanari Carnes</td><td>Rio de Janeiro</td><td>14</td></tr>",
                            "<tr><td>Bottom-Dollar Markets</td><td>Tsawassen</td><td>14</td></tr>",
                            "<tr><td>Around the Horn</td><td>London</td><td>13</td></tr>",
                            "<tr><td>Mère Paillarde</td><td>Montréal</td><td>13</td></tr>",
                            "<tr><td>Queen Cozinha</td><td>Sao Paulo</td><td>13</td></tr>",
                            "<tr><td>Reggiani Caseifici</td><td>Reggio Emilia</td><td>12</td></tr>",
                            "<tr><td>LINO-Delicateses</td><td>I. de Margarita</td><td>12</td></tr>",
                            "<tr><td>Suprêmes délices</td><td>Charleroi</td><td>12</td></tr>",
                            "<tr><td>Vaffeljernet</td><td>Århus</td><td>11</td></tr>",
                            "<tr><td>Ricardo Adocicados</td><td>Rio de Janeiro</td><td>11</td></tr>",
                            "<tr><td>Blondesddsl père et fils</td><td>Strasbourg</td><td>11</td></tr>",
                            "<tr><td>Great Lakes Food Market</td><td>Eugene</td><td>11</td></tr>",
                            "<tr><td>Godos Cocina Típica</td><td>Sevilla</td><td>10</td></tr>",
                            "<tr><td>B's Beverages</td><td>London</td><td>10</td></tr>",
                            "<tr><td>Richter Supermarkt</td><td>Genève</td><td>10</td></tr>",
                            "<tr><td>Piccolo und mehr</td><td>Salzburg</td><td>10</td></tr>",
                            "<tr><td>Magazzini Alimentari Riuniti</td><td>Bergamo</td><td>10</td></tr>",
                            "<tr><td>Old World Delicatessen</td><td>Anchorage</td><td>10</td></tr>",
                            "<tr><td>Ottilies Käseladen</td><td>Köln</td><td>10</td></tr>",
                            "<tr><td>Island Trading</td><td>Cowes</td><td>10</td></tr>",
                            "<tr><td>Victuailles en stock</td><td>Lyon</td><td>10</td></tr>",
                            "<tr><td>Tortuga Restaurante</td><td>México D.F.</td><td>10</td></tr>",
                            "<tr><td>Die Wandernde Kuh</td><td>Stuttgart</td><td>10</td></tr>",
                            "<tr><td>Wellington Importadora</td><td>Resende</td><td>9</td></tr>",
                            "<tr><td>Split Rail Beer &amp; Ale</td><td>Lander</td><td>9</td></tr>",
                            "<tr><td>Que Delícia</td><td>Rio de Janeiro</td><td>9</td></tr>",
                            "<tr><td>Seven Seas Imports</td><td>London</td><td>9</td></tr>",
                            "<tr><td>Gourmet Lanchonetes</td><td>Campinas</td><td>9</td></tr>",
                            "<tr><td>Furia Bacalhau e Frutos do Mar</td><td>Lisboa</td><td>8</td></tr>",
                            "<tr><td>Eastern Connection</td><td>London</td><td>8</td></tr>",
                            "<tr><td>Chop-suey Chinese</td><td>Bern</td><td>8</td></tr>",
                            "<tr><td>Lonesome Pine Restaurant</td><td>Portland</td><td>8</td></tr>",
                            "<tr><td>Maison Dewey</td><td>Bruxelles</td><td>7</td></tr>",
                            "<tr><td>Simons bistro</td><td>Kobenhavn</td><td>7</td></tr>",
                            "<tr><td>Blauer See Delikatessen</td><td>Mannheim</td><td>7</td></tr>",
                            "<tr><td>Antonio Moreno Taquería</td><td>México D.F.</td><td>7</td></tr>",
                            "<tr><td>Familia Arquibaldo</td><td>Sao Paulo</td><td>7</td></tr>",
                            "<tr><td>Wilman Kala</td><td>Helsinki</td><td>7</td></tr>",
                            "<tr><td>Wolski  Zajazd</td><td>Warszawa</td><td>7</td></tr>",
                            "<tr><td>Toms Spezialitäten</td><td>Münster</td><td>6</td></tr>",
                            "<tr><td>Santé Gourmet</td><td>Stavern</td><td>6</td></tr>",
                            "<tr><td>Tradição Hipermercados</td><td>Sao Paulo</td><td>6</td></tr>",
                            "<tr><td>Franchi S.p.A.</td><td>Torino</td><td>6</td></tr>",
                            "<tr><td>Alfreds Futterkiste</td><td>Berlin</td><td>6</td></tr>",
                            "<tr><td>Drachenblut Delikatessen</td><td>Aachen</td><td>6</td></tr>",
                            "<tr><td>Cactus Comidas para llevar</td><td>Buenos Aires</td><td>6</td></tr>",
                            "<tr><td>Pericles Comidas clásicas</td><td>México D.F.</td><td>6</td></tr>",
                            "<tr><td>Océano Atlántico Ltda.</td><td>Buenos Aires</td><td>5</td></tr>",
                            "<tr><td>Princesa Isabel Vinhos</td><td>Lisboa</td><td>5</td></tr>",
                            "<tr><td>Rancho grande</td><td>Buenos Aires</td><td>5</td></tr>",
                            "<tr><td>Romero y tomillo</td><td>Madrid</td><td>5</td></tr>",
                            "<tr><td>Morgenstern Gesundkost</td><td>Leipzig</td><td>5</td></tr>",
                            "<tr><td>Comércio Mineiro</td><td>Sao Paulo</td><td>5</td></tr>",
                            "<tr><td>Hungry Coyote Import Store</td><td>Elgin</td><td>5</td></tr>",
                            "<tr><td>Folies gourmandes</td><td>Lille</td><td>5</td></tr>",
                            "<tr><td>Galería del gastrónomo</td><td>Barcelona</td><td>5</td></tr>",
                            "<tr><td>Vins et alcools Chevalier</td><td>Reims</td><td>5</td></tr>",
                            "<tr><td>The Big Cheese</td><td>Portland</td><td>4</td></tr>",
                            "<tr><td>Du monde entier</td><td>Nantes</td><td>4</td></tr>",
                            "<tr><td>Ana Trujillo Emparedados y helados</td><td>México D.F.</td><td>4</td></tr>",
                            "<tr><td>La corne d'abondance</td><td>Versailles</td><td>4</td></tr>",
                            "<tr><td>Let's Stop N Shop</td><td>San Francisco</td><td>4</td></tr>",
                            "<tr><td>Spécialités du monde</td><td>Paris</td><td>4</td></tr>",
                            "<tr><td>Laughing Bacchus Wine Cellars</td><td>Vancouver</td><td>3</td></tr>",
                            "<tr><td>North/South</td><td>London</td><td>3</td></tr>",
                            "<tr><td>Bólido Comidas preparadas</td><td>Madrid</td><td>3</td></tr>",
                            "<tr><td>Consolidated Holdings</td><td>London</td><td>3</td></tr>",
                            "<tr><td>France restauration</td><td>Nantes</td><td>3</td></tr>",
                            "<tr><td>The Cracker Box</td><td>Butte</td><td>3</td></tr>",
                            "<tr><td>Trail's Head Gourmet Provisioners</td><td>Kirkland</td><td>3</td></tr>",
                            "<tr><td>GROSELLA-Restaurante</td><td>Caracas</td><td>2</td></tr>",
                            "<tr><td>Lazy K Kountry Store</td><td>Walla Walla</td><td>2</td></tr>",
                            "<tr><td>Centro comercial Moctezuma</td><td>México D.F.</td><td>1</td></tr>",
                            "<tr><td>FISSA Fabrica Inter. Salchichas S.A.</td><td>Madrid</td><td>0</td></tr>",
                            "<tr><td>Paris spécialités</td><td>Paris</td><td>0</td></tr>",
                            "</table>"
                        ]
                    }
                }
            ],
            "execution_count": 8
        },
        {
            "cell_type": "code",
            "source": [
                "IF OBJECT_ID('[dbo.Customer Sale]') IS NOT NULL DROP VIEW [dbo.Customer Sale]\n",
                "GO\n",
                "CREATE VIEW [Customer Sale] AS\n",
                "(\n",
                "SELECT c.CompanyName AS [Customer Name], c.Country, SUM(od.unitprice * od.Quantity)\n",
                "AS Sale FROM\n",
                "Customers c\n",
                "INNER JOIN Orders o\n",
                "ON c.CustomerID = o.CustomerID INNER JOIN\n",
                "[Order Details] od\n",
                "ON o.OrderID = od.OrderID\n",
                "GROUP BY c.CompanyName, c.Country )"
            ],
            "metadata": {
                "azdata_cell_guid": "8dc2c1d6-8a83-41b7-8116-5261cae15c78"
            },
            "outputs": [
                {
                    "output_type": "display_data",
                    "data": {
                        "text/html": "Commands completed successfully."
                    },
                    "metadata": {}
                },
                {
                    "output_type": "display_data",
                    "data": {
                        "text/html": "Commands completed successfully."
                    },
                    "metadata": {}
                },
                {
                    "output_type": "display_data",
                    "data": {
                        "text/html": "Total execution time: 00:00:00.042"
                    },
                    "metadata": {}
                }
            ],
            "execution_count": 9
        },
        {
            "cell_type": "code",
            "source": [
                "SELECT [Customer Name], Country, Sale FROM [Customer Sale] cs1 WHERE 2 = (SELECT COUNT(DISTINCT Sale)\n",
                "FROM [Customer Sale] cs2\n",
                "WHERE cs2.sale > cs1.sale)"
            ],
            "metadata": {
                "azdata_cell_guid": "4cf5a70a-af6b-45a6-8293-00623c7cf4bc"
            },
            "outputs": [
                {
                    "output_type": "display_data",
                    "data": {
                        "text/html": "(1 row affected)"
                    },
                    "metadata": {}
                },
                {
                    "output_type": "display_data",
                    "data": {
                        "text/html": "Total execution time: 00:00:00.479"
                    },
                    "metadata": {}
                },
                {
                    "output_type": "execute_result",
                    "metadata": {},
                    "execution_count": 10,
                    "data": {
                        "application/vnd.dataresource+json": {
                            "schema": {
                                "fields": [
                                    {
                                        "name": "Customer Name"
                                    },
                                    {
                                        "name": "Country"
                                    },
                                    {
                                        "name": "Sale"
                                    }
                                ]
                            },
                            "data": [
                                {
                                    "0": "Ernst Handel",
                                    "1": "Austria",
                                    "2": "113236.6800"
                                }
                            ]
                        },
                        "text/html": [
                            "<table>",
                            "<tr><th>Customer Name</th><th>Country</th><th>Sale</th></tr>",
                            "<tr><td>Ernst Handel</td><td>Austria</td><td>113236.6800</td></tr>",
                            "</table>"
                        ]
                    }
                }
            ],
            "execution_count": 10
        },
        {
            "cell_type": "code",
            "source": [
                ""
            ],
            "metadata": {
                "azdata_cell_guid": "227b095d-d9cf-4d92-a5cd-faf1c3e1ee6c"
            },
            "outputs": [],
            "execution_count": null
        }
    ]
}