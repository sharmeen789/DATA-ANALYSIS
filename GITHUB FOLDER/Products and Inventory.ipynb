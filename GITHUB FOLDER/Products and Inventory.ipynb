{
    "metadata": {
        "kernelspec": {
            "name": "SQL",
            "display_name": "SQL",
            "language": "sql"
        },
        "language_info": {
            "name": "sql",
            "version": ""
        }
    },
    "nbformat_minor": 2,
    "nbformat": 4,
    "cells": [
        {
            "cell_type": "code",
            "source": [
                "SELECT ProductName, UnitPrice FROM Products p1 WHERE 1 = (SELECT COUNT(DISTINCT UnitPrice) FROM Products p2\n",
                "WHERE p2.UnitPrice > p1.UnitPrice)"
            ],
            "metadata": {
                "azdata_cell_guid": "a34efcbc-11f2-40da-9850-449f2a2d3909"
            },
            "outputs": [
                {
                    "output_type": "display_data",
                    "data": {
                        "text/html": "(1 row affected)"
                    },
                    "metadata": {}
                },
                {
                    "output_type": "display_data",
                    "data": {
                        "text/html": "Total execution time: 00:00:00.083"
                    },
                    "metadata": {}
                },
                {
                    "output_type": "execute_result",
                    "metadata": {},
                    "execution_count": 2,
                    "data": {
                        "application/vnd.dataresource+json": {
                            "schema": {
                                "fields": [
                                    {
                                        "name": "ProductName"
                                    },
                                    {
                                        "name": "UnitPrice"
                                    }
                                ]
                            },
                            "data": [
                                {
                                    "0": "Thüringer Rostbratwurst",
                                    "1": "123.7900"
                                }
                            ]
                        },
                        "text/html": [
                            "<table>",
                            "<tr><th>ProductName</th><th>UnitPrice</th></tr>",
                            "<tr><td>Thüringer Rostbratwurst</td><td>123.7900</td></tr>",
                            "</table>"
                        ]
                    }
                }
            ],
            "execution_count": 2
        },
        {
            "cell_type": "code",
            "source": [
                "SELECT o.OrderID, o.CustomerID, o.OrderDate, o.ShippedDate, o.ShipCountry,\n",
                "DATEDIFF(DAY, OrderDate, ShippedDate) AS Duration_to_Ship,\n",
                "SUM(od.Quantity * od.UnitPrice) AS [Total Sale Amount]\n",
                "FROM\n",
                "Orders o\n",
                "INNER JOIN\n",
                "[Order Details] od\n",
                "ON o.OrderID = od.OrderID\n",
                "WHERE\n",
                "DATEDIFF(DAY, OrderDate, ShippedDate) > 2\n",
                "GROUP BY o.OrderID, CustomerID, OrderDate, ShippedDate, ShipCountry\n",
                "HAVING SUM(od.Quantity * od.UnitPrice) > 10000\n",
                "ORDER BY DATEDIFF(DAY, OrderDate, ShippedDate) DESC"
            ],
            "metadata": {
                "azdata_cell_guid": "25f40724-6bc7-4345-a805-acf9d79999c4"
            },
            "outputs": [
                {
                    "output_type": "display_data",
                    "data": {
                        "text/html": "(13 rows affected)"
                    },
                    "metadata": {}
                },
                {
                    "output_type": "display_data",
                    "data": {
                        "text/html": "Total execution time: 00:00:00.355"
                    },
                    "metadata": {}
                },
                {
                    "output_type": "execute_result",
                    "metadata": {},
                    "execution_count": 7,
                    "data": {
                        "application/vnd.dataresource+json": {
                            "schema": {
                                "fields": [
                                    {
                                        "name": "OrderID"
                                    },
                                    {
                                        "name": "CustomerID"
                                    },
                                    {
                                        "name": "OrderDate"
                                    },
                                    {
                                        "name": "ShippedDate"
                                    },
                                    {
                                        "name": "ShipCountry"
                                    },
                                    {
                                        "name": "Duration_to_Ship"
                                    },
                                    {
                                        "name": "Total Sale Amount"
                                    }
                                ]
                            },
                            "data": [
                                {
                                    "0": "10515",
                                    "1": "QUICK",
                                    "2": "2017-04-23 00:00:00.000",
                                    "3": "2017-05-23 00:00:00.000",
                                    "4": "Germany",
                                    "5": "30",
                                    "6": "10588.5000"
                                },
                                {
                                    "0": "10540",
                                    "1": "QUICK",
                                    "2": "2017-05-19 00:00:00.000",
                                    "3": "2017-06-13 00:00:00.000",
                                    "4": "Germany",
                                    "5": "25",
                                    "6": "10191.7000"
                                },
                                {
                                    "0": "10691",
                                    "1": "QUICK",
                                    "2": "2017-10-03 00:00:00.000",
                                    "3": "2017-10-22 00:00:00.000",
                                    "4": "Germany",
                                    "5": "19",
                                    "6": "10164.8000"
                                },
                                {
                                    "0": "10353",
                                    "1": "PICCO",
                                    "2": "2016-11-13 00:00:00.000",
                                    "3": "2016-11-25 00:00:00.000",
                                    "4": "Austria",
                                    "5": "12",
                                    "6": "10741.6000"
                                },
                                {
                                    "0": "10417",
                                    "1": "SIMOB",
                                    "2": "2017-01-16 00:00:00.000",
                                    "3": "2017-01-28 00:00:00.000",
                                    "4": "Denmark",
                                    "5": "12",
                                    "6": "11283.2000"
                                },
                                {
                                    "0": "10865",
                                    "1": "QUICK",
                                    "2": "2018-02-02 00:00:00.000",
                                    "3": "2018-02-12 00:00:00.000",
                                    "4": "Germany",
                                    "5": "10",
                                    "6": "17250.0000"
                                },
                                {
                                    "0": "11030",
                                    "1": "SAVEA",
                                    "2": "2018-04-17 00:00:00.000",
                                    "3": "2018-04-27 00:00:00.000",
                                    "4": "USA",
                                    "5": "10",
                                    "6": "16321.9000"
                                },
                                {
                                    "0": "10889",
                                    "1": "RATTC",
                                    "2": "2018-02-16 00:00:00.000",
                                    "3": "2018-02-23 00:00:00.000",
                                    "4": "USA",
                                    "5": "7",
                                    "6": "11380.0000"
                                },
                                {
                                    "0": "10817",
                                    "1": "KOENE",
                                    "2": "2018-01-06 00:00:00.000",
                                    "3": "2018-01-13 00:00:00.000",
                                    "4": "Germany",
                                    "5": "7",
                                    "6": "11490.7000"
                                },
                                {
                                    "0": "10897",
                                    "1": "HUNGO",
                                    "2": "2018-02-19 00:00:00.000",
                                    "3": "2018-02-25 00:00:00.000",
                                    "4": "Ireland",
                                    "5": "6",
                                    "6": "10835.2400"
                                },
                                {
                                    "0": "10981",
                                    "1": "HANAR",
                                    "2": "2018-03-27 00:00:00.000",
                                    "3": "2018-04-02 00:00:00.000",
                                    "4": "Brazil",
                                    "5": "6",
                                    "6": "15810.0000"
                                },
                                {
                                    "0": "10372",
                                    "1": "QUEEN",
                                    "2": "2016-12-04 00:00:00.000",
                                    "3": "2016-12-09 00:00:00.000",
                                    "4": "Brazil",
                                    "5": "5",
                                    "6": "12281.2000"
                                },
                                {
                                    "0": "10424",
                                    "1": "MEREP",
                                    "2": "2017-01-23 00:00:00.000",
                                    "3": "2017-01-27 00:00:00.000",
                                    "4": "Canada",
                                    "5": "4",
                                    "6": "11493.2000"
                                }
                            ]
                        },
                        "text/html": [
                            "<table>",
                            "<tr><th>OrderID</th><th>CustomerID</th><th>OrderDate</th><th>ShippedDate</th><th>ShipCountry</th><th>Duration_to_Ship</th><th>Total Sale Amount</th></tr>",
                            "<tr><td>10515</td><td>QUICK</td><td>2017-04-23 00:00:00.000</td><td>2017-05-23 00:00:00.000</td><td>Germany</td><td>30</td><td>10588.5000</td></tr>",
                            "<tr><td>10540</td><td>QUICK</td><td>2017-05-19 00:00:00.000</td><td>2017-06-13 00:00:00.000</td><td>Germany</td><td>25</td><td>10191.7000</td></tr>",
                            "<tr><td>10691</td><td>QUICK</td><td>2017-10-03 00:00:00.000</td><td>2017-10-22 00:00:00.000</td><td>Germany</td><td>19</td><td>10164.8000</td></tr>",
                            "<tr><td>10353</td><td>PICCO</td><td>2016-11-13 00:00:00.000</td><td>2016-11-25 00:00:00.000</td><td>Austria</td><td>12</td><td>10741.6000</td></tr>",
                            "<tr><td>10417</td><td>SIMOB</td><td>2017-01-16 00:00:00.000</td><td>2017-01-28 00:00:00.000</td><td>Denmark</td><td>12</td><td>11283.2000</td></tr>",
                            "<tr><td>10865</td><td>QUICK</td><td>2018-02-02 00:00:00.000</td><td>2018-02-12 00:00:00.000</td><td>Germany</td><td>10</td><td>17250.0000</td></tr>",
                            "<tr><td>11030</td><td>SAVEA</td><td>2018-04-17 00:00:00.000</td><td>2018-04-27 00:00:00.000</td><td>USA</td><td>10</td><td>16321.9000</td></tr>",
                            "<tr><td>10889</td><td>RATTC</td><td>2018-02-16 00:00:00.000</td><td>2018-02-23 00:00:00.000</td><td>USA</td><td>7</td><td>11380.0000</td></tr>",
                            "<tr><td>10817</td><td>KOENE</td><td>2018-01-06 00:00:00.000</td><td>2018-01-13 00:00:00.000</td><td>Germany</td><td>7</td><td>11490.7000</td></tr>",
                            "<tr><td>10897</td><td>HUNGO</td><td>2018-02-19 00:00:00.000</td><td>2018-02-25 00:00:00.000</td><td>Ireland</td><td>6</td><td>10835.2400</td></tr>",
                            "<tr><td>10981</td><td>HANAR</td><td>2018-03-27 00:00:00.000</td><td>2018-04-02 00:00:00.000</td><td>Brazil</td><td>6</td><td>15810.0000</td></tr>",
                            "<tr><td>10372</td><td>QUEEN</td><td>2016-12-04 00:00:00.000</td><td>2016-12-09 00:00:00.000</td><td>Brazil</td><td>5</td><td>12281.2000</td></tr>",
                            "<tr><td>10424</td><td>MEREP</td><td>2017-01-23 00:00:00.000</td><td>2017-01-27 00:00:00.000</td><td>Canada</td><td>4</td><td>11493.2000</td></tr>",
                            "</table>"
                        ]
                    }
                }
            ],
            "execution_count": 7
        },
        {
            "cell_type": "code",
            "source": [
                "SELECT productid,ProductName,\n",
                "CASE\n",
                "WHEN (UnitsInStock < UnitsOnOrder and\n",
                "Discontinued = 0)\n",
                "THEN 'Negative Inventory - Order Now!'\n",
                "WHEN ((UnitsInStock - UnitsOnOrder)<\n",
                "ReorderLevel and Discontinued = 0)\n",
                "THEN 'Reorder Level Reached - Place Order'\n",
                "WHEN (Discontinued = 1)\n",
                "THEN '****Discontinued****'\n",
                "ELSE 'In Stock'\n",
                "END AS [Stock Status]\n",
                "FROM products"
            ],
            "metadata": {
                "azdata_cell_guid": "f9db17f9-6ba3-400b-a481-545dfb9adebf"
            },
            "outputs": [
                {
                    "output_type": "display_data",
                    "data": {
                        "text/html": "(77 rows affected)"
                    },
                    "metadata": {}
                },
                {
                    "output_type": "display_data",
                    "data": {
                        "text/html": "Total execution time: 00:00:00.060"
                    },
                    "metadata": {}
                },
                {
                    "output_type": "execute_result",
                    "metadata": {},
                    "execution_count": 8,
                    "data": {
                        "application/vnd.dataresource+json": {
                            "schema": {
                                "fields": [
                                    {
                                        "name": "productid"
                                    },
                                    {
                                        "name": "ProductName"
                                    },
                                    {
                                        "name": "Stock Status"
                                    }
                                ]
                            },
                            "data": [
                                {
                                    "0": "1",
                                    "1": "Chai",
                                    "2": "In Stock"
                                },
                                {
                                    "0": "2",
                                    "1": "Chang",
                                    "2": "Negative Inventory - Order Now!"
                                },
                                {
                                    "0": "3",
                                    "1": "Aniseed Syrup",
                                    "2": "Negative Inventory - Order Now!"
                                },
                                {
                                    "0": "4",
                                    "1": "Chef Anton's Cajun Seasoning",
                                    "2": "In Stock"
                                },
                                {
                                    "0": "5",
                                    "1": "Chef Anton's Gumbo Mix",
                                    "2": "****Discontinued****"
                                },
                                {
                                    "0": "6",
                                    "1": "Grandma's Boysenberry Spread",
                                    "2": "In Stock"
                                },
                                {
                                    "0": "7",
                                    "1": "Uncle Bob's Organic Dried Pears",
                                    "2": "In Stock"
                                },
                                {
                                    "0": "8",
                                    "1": "Northwoods Cranberry Sauce",
                                    "2": "In Stock"
                                },
                                {
                                    "0": "9",
                                    "1": "Mishi Kobe Niku",
                                    "2": "****Discontinued****"
                                },
                                {
                                    "0": "10",
                                    "1": "Ikura",
                                    "2": "In Stock"
                                },
                                {
                                    "0": "11",
                                    "1": "Queso Cabrales",
                                    "2": "Negative Inventory - Order Now!"
                                },
                                {
                                    "0": "12",
                                    "1": "Queso Manchego La Pastora",
                                    "2": "In Stock"
                                },
                                {
                                    "0": "13",
                                    "1": "Konbu",
                                    "2": "In Stock"
                                },
                                {
                                    "0": "14",
                                    "1": "Tofu",
                                    "2": "In Stock"
                                },
                                {
                                    "0": "15",
                                    "1": "Genen Shouyu",
                                    "2": "In Stock"
                                },
                                {
                                    "0": "16",
                                    "1": "Pavlova",
                                    "2": "In Stock"
                                },
                                {
                                    "0": "17",
                                    "1": "Alice Mutton",
                                    "2": "****Discontinued****"
                                },
                                {
                                    "0": "18",
                                    "1": "Carnarvon Tigers",
                                    "2": "In Stock"
                                },
                                {
                                    "0": "19",
                                    "1": "Teatime Chocolate Biscuits",
                                    "2": "In Stock"
                                },
                                {
                                    "0": "20",
                                    "1": "Sir Rodney's Marmalade",
                                    "2": "In Stock"
                                },
                                {
                                    "0": "21",
                                    "1": "Sir Rodney's Scones",
                                    "2": "Negative Inventory - Order Now!"
                                },
                                {
                                    "0": "22",
                                    "1": "Gustaf's Knäckebröd",
                                    "2": "In Stock"
                                },
                                {
                                    "0": "23",
                                    "1": "Tunnbröd",
                                    "2": "In Stock"
                                },
                                {
                                    "0": "24",
                                    "1": "Guaraná Fantástica",
                                    "2": "****Discontinued****"
                                },
                                {
                                    "0": "25",
                                    "1": "NuNuCa Nuß-Nougat-Creme",
                                    "2": "In Stock"
                                },
                                {
                                    "0": "26",
                                    "1": "Gumbär Gummibärchen",
                                    "2": "In Stock"
                                },
                                {
                                    "0": "27",
                                    "1": "Schoggi Schokolade",
                                    "2": "In Stock"
                                },
                                {
                                    "0": "28",
                                    "1": "Rössle Sauerkraut",
                                    "2": "****Discontinued****"
                                },
                                {
                                    "0": "29",
                                    "1": "Thüringer Rostbratwurst",
                                    "2": "****Discontinued****"
                                },
                                {
                                    "0": "30",
                                    "1": "Nord-Ost Matjeshering",
                                    "2": "Reorder Level Reached - Place Order"
                                },
                                {
                                    "0": "31",
                                    "1": "Gorgonzola Telino",
                                    "2": "Negative Inventory - Order Now!"
                                },
                                {
                                    "0": "32",
                                    "1": "Mascarpone Fabioli",
                                    "2": "Negative Inventory - Order Now!"
                                },
                                {
                                    "0": "33",
                                    "1": "Geitost",
                                    "2": "In Stock"
                                },
                                {
                                    "0": "34",
                                    "1": "Sasquatch Ale",
                                    "2": "In Stock"
                                },
                                {
                                    "0": "35",
                                    "1": "Steeleye Stout",
                                    "2": "In Stock"
                                },
                                {
                                    "0": "36",
                                    "1": "Inlagd Sill",
                                    "2": "In Stock"
                                },
                                {
                                    "0": "37",
                                    "1": "Gravad lax",
                                    "2": "Negative Inventory - Order Now!"
                                },
                                {
                                    "0": "38",
                                    "1": "Côte de Blaye",
                                    "2": "In Stock"
                                },
                                {
                                    "0": "39",
                                    "1": "Chartreuse verte",
                                    "2": "In Stock"
                                },
                                {
                                    "0": "40",
                                    "1": "Boston Crab Meat",
                                    "2": "In Stock"
                                },
                                {
                                    "0": "41",
                                    "1": "Jack's New England Clam Chowder",
                                    "2": "In Stock"
                                },
                                {
                                    "0": "42",
                                    "1": "Singaporean Hokkien Fried Mee",
                                    "2": "****Discontinued****"
                                },
                                {
                                    "0": "43",
                                    "1": "Ipoh Coffee",
                                    "2": "Reorder Level Reached - Place Order"
                                },
                                {
                                    "0": "44",
                                    "1": "Gula Malacca",
                                    "2": "In Stock"
                                },
                                {
                                    "0": "45",
                                    "1": "Rogede sild",
                                    "2": "Negative Inventory - Order Now!"
                                },
                                {
                                    "0": "46",
                                    "1": "Spegesild",
                                    "2": "In Stock"
                                },
                                {
                                    "0": "47",
                                    "1": "Zaanse koeken",
                                    "2": "In Stock"
                                },
                                {
                                    "0": "48",
                                    "1": "Chocolade",
                                    "2": "Negative Inventory - Order Now!"
                                },
                                {
                                    "0": "49",
                                    "1": "Maxilaku",
                                    "2": "Negative Inventory - Order Now!"
                                },
                                {
                                    "0": "50",
                                    "1": "Valkoinen suklaa",
                                    "2": "In Stock"
                                },
                                {
                                    "0": "51",
                                    "1": "Manjimup Dried Apples",
                                    "2": "In Stock"
                                },
                                {
                                    "0": "52",
                                    "1": "Filo Mix",
                                    "2": "In Stock"
                                },
                                {
                                    "0": "53",
                                    "1": "Perth Pasties",
                                    "2": "****Discontinued****"
                                },
                                {
                                    "0": "54",
                                    "1": "Tourtière",
                                    "2": "In Stock"
                                },
                                {
                                    "0": "55",
                                    "1": "Pâté chinois",
                                    "2": "In Stock"
                                },
                                {
                                    "0": "56",
                                    "1": "Gnocchi di nonna Alice",
                                    "2": "Reorder Level Reached - Place Order"
                                },
                                {
                                    "0": "57",
                                    "1": "Ravioli Angelo",
                                    "2": "In Stock"
                                },
                                {
                                    "0": "58",
                                    "1": "Escargots de Bourgogne",
                                    "2": "In Stock"
                                },
                                {
                                    "0": "59",
                                    "1": "Raclette Courdavault",
                                    "2": "In Stock"
                                },
                                {
                                    "0": "60",
                                    "1": "Camembert Pierrot",
                                    "2": "In Stock"
                                },
                                {
                                    "0": "61",
                                    "1": "Sirop d'érable",
                                    "2": "In Stock"
                                },
                                {
                                    "0": "62",
                                    "1": "Tarte au sucre",
                                    "2": "In Stock"
                                },
                                {
                                    "0": "63",
                                    "1": "Vegie-spread",
                                    "2": "In Stock"
                                },
                                {
                                    "0": "64",
                                    "1": "Wimmers gute Semmelknödel",
                                    "2": "Negative Inventory - Order Now!"
                                },
                                {
                                    "0": "65",
                                    "1": "Louisiana Fiery Hot Pepper Sauce",
                                    "2": "In Stock"
                                },
                                {
                                    "0": "66",
                                    "1": "Louisiana Hot Spiced Okra",
                                    "2": "Negative Inventory - Order Now!"
                                },
                                {
                                    "0": "67",
                                    "1": "Laughing Lumberjack Lager",
                                    "2": "In Stock"
                                },
                                {
                                    "0": "68",
                                    "1": "Scottish Longbreads",
                                    "2": "Negative Inventory - Order Now!"
                                },
                                {
                                    "0": "69",
                                    "1": "Gudbrandsdalsost",
                                    "2": "In Stock"
                                },
                                {
                                    "0": "70",
                                    "1": "Outback Lager",
                                    "2": "Reorder Level Reached - Place Order"
                                },
                                {
                                    "0": "71",
                                    "1": "Flotemysost",
                                    "2": "In Stock"
                                },
                                {
                                    "0": "72",
                                    "1": "Mozzarella di Giovanni",
                                    "2": "In Stock"
                                },
                                {
                                    "0": "73",
                                    "1": "Röd Kaviar",
                                    "2": "In Stock"
                                },
                                {
                                    "0": "74",
                                    "1": "Longlife Tofu",
                                    "2": "Negative Inventory - Order Now!"
                                },
                                {
                                    "0": "75",
                                    "1": "Rhönbräu Klosterbier",
                                    "2": "In Stock"
                                },
                                {
                                    "0": "76",
                                    "1": "Lakkalikööri",
                                    "2": "In Stock"
                                },
                                {
                                    "0": "77",
                                    "1": "Original Frankfurter grüne Soße",
                                    "2": "In Stock"
                                }
                            ]
                        },
                        "text/html": [
                            "<table>",
                            "<tr><th>productid</th><th>ProductName</th><th>Stock Status</th></tr>",
                            "<tr><td>1</td><td>Chai</td><td>In Stock</td></tr>",
                            "<tr><td>2</td><td>Chang</td><td>Negative Inventory - Order Now!</td></tr>",
                            "<tr><td>3</td><td>Aniseed Syrup</td><td>Negative Inventory - Order Now!</td></tr>",
                            "<tr><td>4</td><td>Chef Anton's Cajun Seasoning</td><td>In Stock</td></tr>",
                            "<tr><td>5</td><td>Chef Anton's Gumbo Mix</td><td>****Discontinued****</td></tr>",
                            "<tr><td>6</td><td>Grandma's Boysenberry Spread</td><td>In Stock</td></tr>",
                            "<tr><td>7</td><td>Uncle Bob's Organic Dried Pears</td><td>In Stock</td></tr>",
                            "<tr><td>8</td><td>Northwoods Cranberry Sauce</td><td>In Stock</td></tr>",
                            "<tr><td>9</td><td>Mishi Kobe Niku</td><td>****Discontinued****</td></tr>",
                            "<tr><td>10</td><td>Ikura</td><td>In Stock</td></tr>",
                            "<tr><td>11</td><td>Queso Cabrales</td><td>Negative Inventory - Order Now!</td></tr>",
                            "<tr><td>12</td><td>Queso Manchego La Pastora</td><td>In Stock</td></tr>",
                            "<tr><td>13</td><td>Konbu</td><td>In Stock</td></tr>",
                            "<tr><td>14</td><td>Tofu</td><td>In Stock</td></tr>",
                            "<tr><td>15</td><td>Genen Shouyu</td><td>In Stock</td></tr>",
                            "<tr><td>16</td><td>Pavlova</td><td>In Stock</td></tr>",
                            "<tr><td>17</td><td>Alice Mutton</td><td>****Discontinued****</td></tr>",
                            "<tr><td>18</td><td>Carnarvon Tigers</td><td>In Stock</td></tr>",
                            "<tr><td>19</td><td>Teatime Chocolate Biscuits</td><td>In Stock</td></tr>",
                            "<tr><td>20</td><td>Sir Rodney's Marmalade</td><td>In Stock</td></tr>",
                            "<tr><td>21</td><td>Sir Rodney's Scones</td><td>Negative Inventory - Order Now!</td></tr>",
                            "<tr><td>22</td><td>Gustaf's Knäckebröd</td><td>In Stock</td></tr>",
                            "<tr><td>23</td><td>Tunnbröd</td><td>In Stock</td></tr>",
                            "<tr><td>24</td><td>Guaraná Fantástica</td><td>****Discontinued****</td></tr>",
                            "<tr><td>25</td><td>NuNuCa Nuß-Nougat-Creme</td><td>In Stock</td></tr>",
                            "<tr><td>26</td><td>Gumbär Gummibärchen</td><td>In Stock</td></tr>",
                            "<tr><td>27</td><td>Schoggi Schokolade</td><td>In Stock</td></tr>",
                            "<tr><td>28</td><td>Rössle Sauerkraut</td><td>****Discontinued****</td></tr>",
                            "<tr><td>29</td><td>Thüringer Rostbratwurst</td><td>****Discontinued****</td></tr>",
                            "<tr><td>30</td><td>Nord-Ost Matjeshering</td><td>Reorder Level Reached - Place Order</td></tr>",
                            "<tr><td>31</td><td>Gorgonzola Telino</td><td>Negative Inventory - Order Now!</td></tr>",
                            "<tr><td>32</td><td>Mascarpone Fabioli</td><td>Negative Inventory - Order Now!</td></tr>",
                            "<tr><td>33</td><td>Geitost</td><td>In Stock</td></tr>",
                            "<tr><td>34</td><td>Sasquatch Ale</td><td>In Stock</td></tr>",
                            "<tr><td>35</td><td>Steeleye Stout</td><td>In Stock</td></tr>",
                            "<tr><td>36</td><td>Inlagd Sill</td><td>In Stock</td></tr>",
                            "<tr><td>37</td><td>Gravad lax</td><td>Negative Inventory - Order Now!</td></tr>",
                            "<tr><td>38</td><td>Côte de Blaye</td><td>In Stock</td></tr>",
                            "<tr><td>39</td><td>Chartreuse verte</td><td>In Stock</td></tr>",
                            "<tr><td>40</td><td>Boston Crab Meat</td><td>In Stock</td></tr>",
                            "<tr><td>41</td><td>Jack's New England Clam Chowder</td><td>In Stock</td></tr>",
                            "<tr><td>42</td><td>Singaporean Hokkien Fried Mee</td><td>****Discontinued****</td></tr>",
                            "<tr><td>43</td><td>Ipoh Coffee</td><td>Reorder Level Reached - Place Order</td></tr>",
                            "<tr><td>44</td><td>Gula Malacca</td><td>In Stock</td></tr>",
                            "<tr><td>45</td><td>Rogede sild</td><td>Negative Inventory - Order Now!</td></tr>",
                            "<tr><td>46</td><td>Spegesild</td><td>In Stock</td></tr>",
                            "<tr><td>47</td><td>Zaanse koeken</td><td>In Stock</td></tr>",
                            "<tr><td>48</td><td>Chocolade</td><td>Negative Inventory - Order Now!</td></tr>",
                            "<tr><td>49</td><td>Maxilaku</td><td>Negative Inventory - Order Now!</td></tr>",
                            "<tr><td>50</td><td>Valkoinen suklaa</td><td>In Stock</td></tr>",
                            "<tr><td>51</td><td>Manjimup Dried Apples</td><td>In Stock</td></tr>",
                            "<tr><td>52</td><td>Filo Mix</td><td>In Stock</td></tr>",
                            "<tr><td>53</td><td>Perth Pasties</td><td>****Discontinued****</td></tr>",
                            "<tr><td>54</td><td>Tourtière</td><td>In Stock</td></tr>",
                            "<tr><td>55</td><td>Pâté chinois</td><td>In Stock</td></tr>",
                            "<tr><td>56</td><td>Gnocchi di nonna Alice</td><td>Reorder Level Reached - Place Order</td></tr>",
                            "<tr><td>57</td><td>Ravioli Angelo</td><td>In Stock</td></tr>",
                            "<tr><td>58</td><td>Escargots de Bourgogne</td><td>In Stock</td></tr>",
                            "<tr><td>59</td><td>Raclette Courdavault</td><td>In Stock</td></tr>",
                            "<tr><td>60</td><td>Camembert Pierrot</td><td>In Stock</td></tr>",
                            "<tr><td>61</td><td>Sirop d'érable</td><td>In Stock</td></tr>",
                            "<tr><td>62</td><td>Tarte au sucre</td><td>In Stock</td></tr>",
                            "<tr><td>63</td><td>Vegie-spread</td><td>In Stock</td></tr>",
                            "<tr><td>64</td><td>Wimmers gute Semmelknödel</td><td>Negative Inventory - Order Now!</td></tr>",
                            "<tr><td>65</td><td>Louisiana Fiery Hot Pepper Sauce</td><td>In Stock</td></tr>",
                            "<tr><td>66</td><td>Louisiana Hot Spiced Okra</td><td>Negative Inventory - Order Now!</td></tr>",
                            "<tr><td>67</td><td>Laughing Lumberjack Lager</td><td>In Stock</td></tr>",
                            "<tr><td>68</td><td>Scottish Longbreads</td><td>Negative Inventory - Order Now!</td></tr>",
                            "<tr><td>69</td><td>Gudbrandsdalsost</td><td>In Stock</td></tr>",
                            "<tr><td>70</td><td>Outback Lager</td><td>Reorder Level Reached - Place Order</td></tr>",
                            "<tr><td>71</td><td>Flotemysost</td><td>In Stock</td></tr>",
                            "<tr><td>72</td><td>Mozzarella di Giovanni</td><td>In Stock</td></tr>",
                            "<tr><td>73</td><td>Röd Kaviar</td><td>In Stock</td></tr>",
                            "<tr><td>74</td><td>Longlife Tofu</td><td>Negative Inventory - Order Now!</td></tr>",
                            "<tr><td>75</td><td>Rhönbräu Klosterbier</td><td>In Stock</td></tr>",
                            "<tr><td>76</td><td>Lakkalikööri</td><td>In Stock</td></tr>",
                            "<tr><td>77</td><td>Original Frankfurter grüne Soße</td><td>In Stock</td></tr>",
                            "</table>"
                        ]
                    }
                }
            ],
            "execution_count": 8
        },
        {
            "cell_type": "code",
            "source": [
                ""
            ],
            "metadata": {
                "azdata_cell_guid": "1beef84b-1d89-45ce-8a67-07f1aedcf2a3"
            },
            "outputs": [],
            "execution_count": null
        }
    ]
}