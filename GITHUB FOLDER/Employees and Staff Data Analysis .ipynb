{
    "metadata": {
        "kernelspec": {
            "name": "SQL",
            "display_name": "SQL",
            "language": "sql"
        },
        "language_info": {
            "name": "sql",
            "version": ""
        }
    },
    "nbformat_minor": 2,
    "nbformat": 4,
    "cells": [
        {
            "cell_type": "code",
            "source": [
                "SELECT TOP 3 e.FirstName + ' ' + e.LastName AS [Full Name], e.City,\n",
                "SUM(od.Quantity * od.UnitPrice) as [Total Sale],\n",
                "ROUND(SUM(od.Quantity * od.UnitPrice)* .02, 0) AS [Bonus]\n",
                "FROM\n",
                "Employees e\n",
                "INNER JOIN\n",
                "Orders o\n",
                "ON e.EmployeeID = o.EmployeeID\n",
                "INNER JOIN\n",
                "[Order Details] od\n",
                "ON o.OrderID = od.OrderID\n",
                "WHERE YEAR(o.OrderDate) = '2018' AND MONTH(o.OrderDate) ='1'\n",
                "GROUP BY e.FirstName + ' ' + e.LastName, e.City\n",
                "ORDER BY [Total Sale] DESC"
            ],
            "metadata": {
                "azdata_cell_guid": "b0a9424b-776b-4d2b-a9ca-3ea68d20be8e"
            },
            "outputs": [
                {
                    "output_type": "display_data",
                    "data": {
                        "text/html": "(3 rows affected)"
                    },
                    "metadata": {}
                },
                {
                    "output_type": "display_data",
                    "data": {
                        "text/html": "Total execution time: 00:00:00.122"
                    },
                    "metadata": {}
                },
                {
                    "output_type": "execute_result",
                    "metadata": {},
                    "execution_count": 1,
                    "data": {
                        "application/vnd.dataresource+json": {
                            "schema": {
                                "fields": [
                                    {
                                        "name": "Full Name"
                                    },
                                    {
                                        "name": "City"
                                    },
                                    {
                                        "name": "Total Sale"
                                    },
                                    {
                                        "name": "Bonus"
                                    }
                                ]
                            },
                            "data": [
                                {
                                    "0": "Janet Leverling",
                                    "1": "Kirkland",
                                    "2": "27833.3500",
                                    "3": "557.000000"
                                },
                                {
                                    "0": "Margaret Peacock",
                                    "1": "Redmond",
                                    "2": "21029.3000",
                                    "3": "421.000000"
                                },
                                {
                                    "0": "Steven Buchanan",
                                    "1": "London",
                                    "2": "12280.5000",
                                    "3": "246.000000"
                                }
                            ]
                        },
                        "text/html": [
                            "<table>",
                            "<tr><th>Full Name</th><th>City</th><th>Total Sale</th><th>Bonus</th></tr>",
                            "<tr><td>Janet Leverling</td><td>Kirkland</td><td>27833.3500</td><td>557.000000</td></tr>",
                            "<tr><td>Margaret Peacock</td><td>Redmond</td><td>21029.3000</td><td>421.000000</td></tr>",
                            "<tr><td>Steven Buchanan</td><td>London</td><td>12280.5000</td><td>246.000000</td></tr>",
                            "</table>"
                        ]
                    }
                }
            ],
            "execution_count": 1
        },
        {
            "cell_type": "code",
            "source": [
                "SELECT Title, City, COUNT(Title) AS [Number of Employees] FROM Employees GROUP BY Title, City"
            ],
            "metadata": {
                "azdata_cell_guid": "a0284166-c22d-43ba-9321-8de973fadbd1"
            },
            "outputs": [
                {
                    "output_type": "display_data",
                    "data": {
                        "text/html": "(7 rows affected)"
                    },
                    "metadata": {}
                },
                {
                    "output_type": "display_data",
                    "data": {
                        "text/html": "Total execution time: 00:00:00.028"
                    },
                    "metadata": {}
                },
                {
                    "output_type": "execute_result",
                    "metadata": {},
                    "execution_count": 2,
                    "data": {
                        "application/vnd.dataresource+json": {
                            "schema": {
                                "fields": [
                                    {
                                        "name": "Title"
                                    },
                                    {
                                        "name": "City"
                                    },
                                    {
                                        "name": "Number of Employees"
                                    }
                                ]
                            },
                            "data": [
                                {
                                    "0": "Sales Representative",
                                    "1": "Kirkland",
                                    "2": "1"
                                },
                                {
                                    "0": "Sales Manager",
                                    "1": "London",
                                    "2": "1"
                                },
                                {
                                    "0": "Sales Representative",
                                    "1": "London",
                                    "2": "3"
                                },
                                {
                                    "0": "Sales Representative",
                                    "1": "Redmond",
                                    "2": "1"
                                },
                                {
                                    "0": "Inside Sales Coordinator",
                                    "1": "Seattle",
                                    "2": "1"
                                },
                                {
                                    "0": "Sales Representative",
                                    "1": "Seattle",
                                    "2": "1"
                                },
                                {
                                    "0": "Vice President, Sales",
                                    "1": "Tacoma",
                                    "2": "1"
                                }
                            ]
                        },
                        "text/html": [
                            "<table>",
                            "<tr><th>Title</th><th>City</th><th>Number of Employees</th></tr>",
                            "<tr><td>Sales Representative</td><td>Kirkland</td><td>1</td></tr>",
                            "<tr><td>Sales Manager</td><td>London</td><td>1</td></tr>",
                            "<tr><td>Sales Representative</td><td>London</td><td>3</td></tr>",
                            "<tr><td>Sales Representative</td><td>Redmond</td><td>1</td></tr>",
                            "<tr><td>Inside Sales Coordinator</td><td>Seattle</td><td>1</td></tr>",
                            "<tr><td>Sales Representative</td><td>Seattle</td><td>1</td></tr>",
                            "<tr><td>Vice President, Sales</td><td>Tacoma</td><td>1</td></tr>",
                            "</table>"
                        ]
                    }
                }
            ],
            "execution_count": 2
        },
        {
            "cell_type": "code",
            "source": [
                "SELECT Lastname, Firstname, Title, DATEDIFF(YEAR, HireDate, GETDATE()) AS [Work Years in the Company]\n",
                "FROM Employees\n",
                "WHERE City = 'London'"
            ],
            "metadata": {
                "azdata_cell_guid": "a003a0c6-fd41-4849-bc91-46f6dd9e8a6b"
            },
            "outputs": [
                {
                    "output_type": "display_data",
                    "data": {
                        "text/html": "(4 rows affected)"
                    },
                    "metadata": {}
                },
                {
                    "output_type": "display_data",
                    "data": {
                        "text/html": "Total execution time: 00:00:00.028"
                    },
                    "metadata": {}
                },
                {
                    "output_type": "execute_result",
                    "metadata": {},
                    "execution_count": 3,
                    "data": {
                        "application/vnd.dataresource+json": {
                            "schema": {
                                "fields": [
                                    {
                                        "name": "Lastname"
                                    },
                                    {
                                        "name": "Firstname"
                                    },
                                    {
                                        "name": "Title"
                                    },
                                    {
                                        "name": "Work Years in the Company"
                                    }
                                ]
                            },
                            "data": [
                                {
                                    "0": "Buchanan",
                                    "1": "Steven",
                                    "2": "Sales Manager",
                                    "3": "27"
                                },
                                {
                                    "0": "Suyama",
                                    "1": "Michael",
                                    "2": "Sales Representative",
                                    "3": "27"
                                },
                                {
                                    "0": "King",
                                    "1": "Robert",
                                    "2": "Sales Representative",
                                    "3": "26"
                                },
                                {
                                    "0": "Dodsworth",
                                    "1": "Anne",
                                    "2": "Sales Representative",
                                    "3": "26"
                                }
                            ]
                        },
                        "text/html": [
                            "<table>",
                            "<tr><th>Lastname</th><th>Firstname</th><th>Title</th><th>Work Years in the Company</th></tr>",
                            "<tr><td>Buchanan</td><td>Steven</td><td>Sales Manager</td><td>27</td></tr>",
                            "<tr><td>Suyama</td><td>Michael</td><td>Sales Representative</td><td>27</td></tr>",
                            "<tr><td>King</td><td>Robert</td><td>Sales Representative</td><td>26</td></tr>",
                            "<tr><td>Dodsworth</td><td>Anne</td><td>Sales Representative</td><td>26</td></tr>",
                            "</table>"
                        ]
                    }
                }
            ],
            "execution_count": 3
        },
        {
            "cell_type": "code",
            "source": [
                "SELECT Lastname, Firstname, Title, DATEDIFF(YEAR, BirthDate, GETDATE()) AS [Age] FROM Employees\n",
                "WHERE DATEDIFF(YEAR, BirthDate, GETDATE()) >= 70"
            ],
            "metadata": {
                "azdata_cell_guid": "6ca337ed-f4bd-427a-bca1-0bcbb9aa930c"
            },
            "outputs": [
                {
                    "output_type": "display_data",
                    "data": {
                        "text/html": "(2 rows affected)"
                    },
                    "metadata": {}
                },
                {
                    "output_type": "display_data",
                    "data": {
                        "text/html": "Total execution time: 00:00:00.046"
                    },
                    "metadata": {}
                },
                {
                    "output_type": "execute_result",
                    "metadata": {},
                    "execution_count": 4,
                    "data": {
                        "application/vnd.dataresource+json": {
                            "schema": {
                                "fields": [
                                    {
                                        "name": "Lastname"
                                    },
                                    {
                                        "name": "Firstname"
                                    },
                                    {
                                        "name": "Title"
                                    },
                                    {
                                        "name": "Age"
                                    }
                                ]
                            },
                            "data": [
                                {
                                    "0": "Davolio",
                                    "1": "Nancy",
                                    "2": "Sales Representative",
                                    "3": "72"
                                },
                                {
                                    "0": "Peacock",
                                    "1": "Margaret",
                                    "2": "Sales Representative",
                                    "3": "83"
                                }
                            ]
                        },
                        "text/html": [
                            "<table>",
                            "<tr><th>Lastname</th><th>Firstname</th><th>Title</th><th>Age</th></tr>",
                            "<tr><td>Davolio</td><td>Nancy</td><td>Sales Representative</td><td>72</td></tr>",
                            "<tr><td>Peacock</td><td>Margaret</td><td>Sales Representative</td><td>83</td></tr>",
                            "</table>"
                        ]
                    }
                }
            ],
            "execution_count": 4
        },
        {
            "cell_type": "code",
            "source": [
                ""
            ],
            "metadata": {
                "azdata_cell_guid": "b9120083-1f1c-4f69-b832-5c8f66ec73e1"
            },
            "outputs": [],
            "execution_count": null
        },
        {
            "cell_type": "code",
            "source": [
                ""
            ],
            "metadata": {
                "azdata_cell_guid": "ab67ce14-e297-46cf-9508-ff6b4be88d61"
            },
            "outputs": [],
            "execution_count": null
        },
        {
            "cell_type": "code",
            "source": [
                ""
            ],
            "metadata": {
                "azdata_cell_guid": "06502c9d-f4c2-46fb-9fa6-a661b3be79e7"
            },
            "outputs": [],
            "execution_count": null
        },
        {
            "cell_type": "code",
            "source": [
                ""
            ],
            "metadata": {
                "azdata_cell_guid": "3f059ec4-24a5-49df-b969-36f84fc9fde4"
            },
            "outputs": [],
            "execution_count": null
        },
        {
            "cell_type": "code",
            "source": [
                ""
            ],
            "metadata": {
                "azdata_cell_guid": "532dba65-bf50-42a2-9aff-b6f28f487f26"
            },
            "outputs": [],
            "execution_count": null
        },
        {
            "cell_type": "code",
            "source": [
                ""
            ],
            "metadata": {
                "azdata_cell_guid": "45c8338e-b2b4-416e-8ade-439693969e3c"
            },
            "outputs": [],
            "execution_count": null
        },
        {
            "cell_type": "code",
            "source": [
                ""
            ],
            "metadata": {
                "azdata_cell_guid": "2a9a1ecc-05ff-4f70-9113-e9bc21f2baa6"
            },
            "outputs": [],
            "execution_count": null
        },
        {
            "cell_type": "code",
            "source": [
                ""
            ],
            "metadata": {
                "azdata_cell_guid": "6da1731b-58bf-4a97-9796-c4396070b5ad"
            },
            "outputs": [],
            "execution_count": null
        }
    ]
}